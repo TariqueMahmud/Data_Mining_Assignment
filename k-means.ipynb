{
 "cells": [
  {
   "cell_type": "markdown",
   "metadata": {},
   "source": [
    "<h1>Problem Description</h1>\n",
    "<p>A scientist is interested to investigate the effectiveness of online education.  Write a scientific report for that scientist after analyzing the following dataset. \n",
    "\n",
    "You have a subset of the real data set contained information of 50 students who are attending online classes. To select appropriate statistical tools for analyzing data, at first explore all variables by using appropriate graphical presentation and frequency tables. Don't forget to make comments or remarks for each graph and table. Secondly, investigate the significant association among demographical variables with online education-related variables. Thirdly, try to find the key significate factors which influence the positive and negative effect on online education using sophisticated data mining tools. Finally, you can apply cluster analysis for finding the groups of respondents. In the \"discussion and conclusions\" section, try to highlight the limitations and key points for improving the online education system. \n",
    "\n",
    "N.B. Don't forget to put your R/Python Code in the Appendix. This Homework is due on Wednesday, December 15, 2020. You can do this by an individual or a group of at most four members. Please upload the solution to this project on google classroom.</p>"
   ]
  },
  {
   "cell_type": "markdown",
   "metadata": {},
   "source": [
    "<h1>Data Visualization</h1>"
   ]
  },
  {
   "cell_type": "code",
   "execution_count": 77,
   "metadata": {
    "scrolled": false
   },
   "outputs": [
    {
     "data": {
      "text/html": [
       "<div>\n",
       "<style scoped>\n",
       "    .dataframe tbody tr th:only-of-type {\n",
       "        vertical-align: middle;\n",
       "    }\n",
       "\n",
       "    .dataframe tbody tr th {\n",
       "        vertical-align: top;\n",
       "    }\n",
       "\n",
       "    .dataframe thead th {\n",
       "        text-align: right;\n",
       "    }\n",
       "</style>\n",
       "<table border=\"1\" class=\"dataframe\">\n",
       "  <thead>\n",
       "    <tr style=\"text-align: right;\">\n",
       "      <th></th>\n",
       "      <th>Timestamp</th>\n",
       "      <th>Your Gender Name</th>\n",
       "      <th>Your Age in Years</th>\n",
       "      <th>Your Permanent Resident Area</th>\n",
       "      <th>Monthly Cost for Buying Internet with Mobile Data</th>\n",
       "      <th>Monthly Cost for only Phone/Mobile Call</th>\n",
       "      <th>How much time do you spend daily on social media e.g., Facebook? - In Minutes</th>\n",
       "      <th>Do you find it difficult to manage your expenses for your study?</th>\n",
       "      <th>Household Monthly Income</th>\n",
       "      <th>Are you attending online classes regularly?</th>\n",
       "      <th>...</th>\n",
       "      <th>Online course interaction The lecture material in my online courses is valuable to course discussions.</th>\n",
       "      <th>Online course content and satisfaction The materials in my online courses support the course goals.</th>\n",
       "      <th>Online course content and satisfaction The class video recording is not so important for me.</th>\n",
       "      <th>Online course content and satisfaction On-campus class face-to-face class and online class are the same for me.</th>\n",
       "      <th>Online course content and satisfaction I think I learn more in online classes than in on-campus classes face-to-face classes.</th>\n",
       "      <th>Online course content and satisfaction I prefer online courses to on-campus classes face-to-face classes.</th>\n",
       "      <th>Assignment and Homework for Online Class I want to receive homework for my online course.</th>\n",
       "      <th>Assignment and Homework for Online Class I want to receive the assignment for my online course.</th>\n",
       "      <th>Assignment and Homework for Online Class I want  to participate in the online exam.</th>\n",
       "      <th>Assignment and Homework for Online Class I want to participate in the quiz in the online class.</th>\n",
       "    </tr>\n",
       "  </thead>\n",
       "  <tbody>\n",
       "    <tr>\n",
       "      <th>0</th>\n",
       "      <td>10/22/2020 14:13</td>\n",
       "      <td>Male</td>\n",
       "      <td>24</td>\n",
       "      <td>Rural</td>\n",
       "      <td>500</td>\n",
       "      <td>200</td>\n",
       "      <td>480</td>\n",
       "      <td>Yes</td>\n",
       "      <td>40000</td>\n",
       "      <td>Yes</td>\n",
       "      <td>...</td>\n",
       "      <td>Strongly agree</td>\n",
       "      <td>Agree</td>\n",
       "      <td>Strongly agree</td>\n",
       "      <td>Disagree</td>\n",
       "      <td>Disagree</td>\n",
       "      <td>Disagree</td>\n",
       "      <td>Strongly agree</td>\n",
       "      <td>Strongly agree</td>\n",
       "      <td>Strongly agree</td>\n",
       "      <td>Strongly agree</td>\n",
       "    </tr>\n",
       "    <tr>\n",
       "      <th>1</th>\n",
       "      <td>10/22/2020 14:14</td>\n",
       "      <td>Female</td>\n",
       "      <td>20</td>\n",
       "      <td>Urban</td>\n",
       "      <td>1000</td>\n",
       "      <td>200</td>\n",
       "      <td>420</td>\n",
       "      <td>No</td>\n",
       "      <td>50000</td>\n",
       "      <td>Yes</td>\n",
       "      <td>...</td>\n",
       "      <td>Agree</td>\n",
       "      <td>Agree</td>\n",
       "      <td>Strongly agree</td>\n",
       "      <td>Neither agree nor disagree</td>\n",
       "      <td>Neither agree nor disagree</td>\n",
       "      <td>Agree</td>\n",
       "      <td>Agree</td>\n",
       "      <td>Agree</td>\n",
       "      <td>Neither agree nor disagree</td>\n",
       "      <td>Agree</td>\n",
       "    </tr>\n",
       "    <tr>\n",
       "      <th>2</th>\n",
       "      <td>10/22/2020 14:20</td>\n",
       "      <td>Male</td>\n",
       "      <td>21</td>\n",
       "      <td>Semi-urban</td>\n",
       "      <td>1000</td>\n",
       "      <td>500</td>\n",
       "      <td>480</td>\n",
       "      <td>Yes</td>\n",
       "      <td>22000</td>\n",
       "      <td>Yes</td>\n",
       "      <td>...</td>\n",
       "      <td>Neither agree nor disagree</td>\n",
       "      <td>Neither agree nor disagree</td>\n",
       "      <td>Neither agree nor disagree</td>\n",
       "      <td>Neither agree nor disagree</td>\n",
       "      <td>Neither agree nor disagree</td>\n",
       "      <td>Neither agree nor disagree</td>\n",
       "      <td>Disagree</td>\n",
       "      <td>Neither agree nor disagree</td>\n",
       "      <td>Strongly disagree</td>\n",
       "      <td>Agree</td>\n",
       "    </tr>\n",
       "    <tr>\n",
       "      <th>3</th>\n",
       "      <td>10/22/2020 14:21</td>\n",
       "      <td>Female</td>\n",
       "      <td>20</td>\n",
       "      <td>Urban</td>\n",
       "      <td>500</td>\n",
       "      <td>100</td>\n",
       "      <td>240</td>\n",
       "      <td>No</td>\n",
       "      <td>20000</td>\n",
       "      <td>Yes</td>\n",
       "      <td>...</td>\n",
       "      <td>Agree</td>\n",
       "      <td>Agree</td>\n",
       "      <td>Disagree</td>\n",
       "      <td>Strongly disagree</td>\n",
       "      <td>Strongly disagree</td>\n",
       "      <td>Strongly disagree</td>\n",
       "      <td>Agree</td>\n",
       "      <td>Agree</td>\n",
       "      <td>Agree</td>\n",
       "      <td>Agree</td>\n",
       "    </tr>\n",
       "    <tr>\n",
       "      <th>4</th>\n",
       "      <td>10/22/2020 14:23</td>\n",
       "      <td>Female</td>\n",
       "      <td>21</td>\n",
       "      <td>Urban</td>\n",
       "      <td>500</td>\n",
       "      <td>100</td>\n",
       "      <td>180</td>\n",
       "      <td>No</td>\n",
       "      <td>50000</td>\n",
       "      <td>Yes</td>\n",
       "      <td>...</td>\n",
       "      <td>Strongly agree</td>\n",
       "      <td>Agree</td>\n",
       "      <td>Disagree</td>\n",
       "      <td>Disagree</td>\n",
       "      <td>Disagree</td>\n",
       "      <td>Disagree</td>\n",
       "      <td>Neither agree nor disagree</td>\n",
       "      <td>Strongly agree</td>\n",
       "      <td>Neither agree nor disagree</td>\n",
       "      <td>Disagree</td>\n",
       "    </tr>\n",
       "  </tbody>\n",
       "</table>\n",
       "<p>5 rows × 35 columns</p>\n",
       "</div>"
      ],
      "text/plain": [
       "          Timestamp Your Gender Name  Your Age in Years  \\\n",
       "0  10/22/2020 14:13             Male                 24   \n",
       "1  10/22/2020 14:14           Female                 20   \n",
       "2  10/22/2020 14:20             Male                 21   \n",
       "3  10/22/2020 14:21           Female                 20   \n",
       "4  10/22/2020 14:23           Female                 21   \n",
       "\n",
       "  Your Permanent Resident Area  \\\n",
       "0                        Rural   \n",
       "1                        Urban   \n",
       "2                   Semi-urban   \n",
       "3                        Urban   \n",
       "4                        Urban   \n",
       "\n",
       "   Monthly Cost for Buying Internet with Mobile Data  \\\n",
       "0                                                500   \n",
       "1                                               1000   \n",
       "2                                               1000   \n",
       "3                                                500   \n",
       "4                                                500   \n",
       "\n",
       "   Monthly Cost for only Phone/Mobile Call  \\\n",
       "0                                      200   \n",
       "1                                      200   \n",
       "2                                      500   \n",
       "3                                      100   \n",
       "4                                      100   \n",
       "\n",
       "   How much time do you spend daily on social media e.g., Facebook? - In Minutes  \\\n",
       "0                                                480                               \n",
       "1                                                420                               \n",
       "2                                                480                               \n",
       "3                                                240                               \n",
       "4                                                180                               \n",
       "\n",
       "  Do you find it difficult to manage your expenses for your study?  \\\n",
       "0                                                Yes                 \n",
       "1                                                 No                 \n",
       "2                                                Yes                 \n",
       "3                                                 No                 \n",
       "4                                                 No                 \n",
       "\n",
       "   Household Monthly Income Are you attending online classes regularly?  ...  \\\n",
       "0                     40000                                         Yes  ...   \n",
       "1                     50000                                         Yes  ...   \n",
       "2                     22000                                         Yes  ...   \n",
       "3                     20000                                         Yes  ...   \n",
       "4                     50000                                         Yes  ...   \n",
       "\n",
       "  Online course interaction The lecture material in my online courses is valuable to course discussions.  \\\n",
       "0                                     Strongly agree                                                       \n",
       "1                                              Agree                                                       \n",
       "2                         Neither agree nor disagree                                                       \n",
       "3                                              Agree                                                       \n",
       "4                                     Strongly agree                                                       \n",
       "\n",
       "  Online course content and satisfaction The materials in my online courses support the course goals.  \\\n",
       "0                                              Agree                                                    \n",
       "1                                              Agree                                                    \n",
       "2                         Neither agree nor disagree                                                    \n",
       "3                                              Agree                                                    \n",
       "4                                              Agree                                                    \n",
       "\n",
       "  Online course content and satisfaction The class video recording is not so important for me.  \\\n",
       "0                                     Strongly agree                                             \n",
       "1                                     Strongly agree                                             \n",
       "2                         Neither agree nor disagree                                             \n",
       "3                                           Disagree                                             \n",
       "4                                           Disagree                                             \n",
       "\n",
       "  Online course content and satisfaction On-campus class face-to-face class and online class are the same for me.  \\\n",
       "0                                           Disagree                                                                \n",
       "1                         Neither agree nor disagree                                                                \n",
       "2                         Neither agree nor disagree                                                                \n",
       "3                                  Strongly disagree                                                                \n",
       "4                                           Disagree                                                                \n",
       "\n",
       "  Online course content and satisfaction I think I learn more in online classes than in on-campus classes face-to-face classes.  \\\n",
       "0                                           Disagree                                                                              \n",
       "1                         Neither agree nor disagree                                                                              \n",
       "2                         Neither agree nor disagree                                                                              \n",
       "3                                  Strongly disagree                                                                              \n",
       "4                                           Disagree                                                                              \n",
       "\n",
       "  Online course content and satisfaction I prefer online courses to on-campus classes face-to-face classes.  \\\n",
       "0                                           Disagree                                                          \n",
       "1                                              Agree                                                          \n",
       "2                         Neither agree nor disagree                                                          \n",
       "3                                  Strongly disagree                                                          \n",
       "4                                           Disagree                                                          \n",
       "\n",
       "   Assignment and Homework for Online Class I want to receive homework for my online course.  \\\n",
       "0                                     Strongly agree                                           \n",
       "1                                              Agree                                           \n",
       "2                                           Disagree                                           \n",
       "3                                              Agree                                           \n",
       "4                         Neither agree nor disagree                                           \n",
       "\n",
       "  Assignment and Homework for Online Class I want to receive the assignment for my online course.  \\\n",
       "0                                     Strongly agree                                                \n",
       "1                                              Agree                                                \n",
       "2                         Neither agree nor disagree                                                \n",
       "3                                              Agree                                                \n",
       "4                                     Strongly agree                                                \n",
       "\n",
       "  Assignment and Homework for Online Class I want  to participate in the online exam.  \\\n",
       "0                                     Strongly agree                                    \n",
       "1                         Neither agree nor disagree                                    \n",
       "2                                  Strongly disagree                                    \n",
       "3                                              Agree                                    \n",
       "4                         Neither agree nor disagree                                    \n",
       "\n",
       "  Assignment and Homework for Online Class I want to participate in the quiz in the online class.  \n",
       "0                                     Strongly agree                                               \n",
       "1                                              Agree                                               \n",
       "2                                              Agree                                               \n",
       "3                                              Agree                                               \n",
       "4                                           Disagree                                               \n",
       "\n",
       "[5 rows x 35 columns]"
      ]
     },
     "execution_count": 77,
     "metadata": {},
     "output_type": "execute_result"
    }
   ],
   "source": [
    "import pandas as pd\n",
    "import numpy as np\n",
    "import matplotlib.pyplot as plt\n",
    "%matplotlib inline\n",
    "from sklearn.cluster import KMeans\n",
    "data=pd.read_csv(\"C:/Users/sadat/OneDrive/Desktop/Data Science 3rd Semester/DM Assignment/201900101002.csv\")\n",
    "data\n",
    "data.head()\n"
   ]
  },
  {
   "cell_type": "code",
   "execution_count": 78,
   "metadata": {
    "scrolled": true
   },
   "outputs": [
    {
     "data": {
      "text/html": [
       "<div>\n",
       "<style scoped>\n",
       "    .dataframe tbody tr th:only-of-type {\n",
       "        vertical-align: middle;\n",
       "    }\n",
       "\n",
       "    .dataframe tbody tr th {\n",
       "        vertical-align: top;\n",
       "    }\n",
       "\n",
       "    .dataframe thead th {\n",
       "        text-align: right;\n",
       "    }\n",
       "</style>\n",
       "<table border=\"1\" class=\"dataframe\">\n",
       "  <thead>\n",
       "    <tr style=\"text-align: right;\">\n",
       "      <th></th>\n",
       "      <th>Timestamp</th>\n",
       "      <th>Your_Gender_Name</th>\n",
       "      <th>Your_Age_in_Years</th>\n",
       "      <th>Your_Permanent_Resident_Area</th>\n",
       "      <th>Monthly_Cost_for_Buying_Internet_with_Mobile_Data</th>\n",
       "      <th>Monthly_Cost_for_only_Phone/Mobile_Call</th>\n",
       "      <th>How_much_time_do_you_spend_daily_on_social_media_e.g.,_Facebook?_-_In_Minutes</th>\n",
       "      <th>Do_you_find_it_difficult_to_manage_your_expenses_for_your_study?</th>\n",
       "      <th>Household_Monthly_Income</th>\n",
       "      <th>Are_you_attending_online_classes_regularly?</th>\n",
       "      <th>...</th>\n",
       "      <th>Online_course_interaction_The_lecture_material_in_my_online_courses_is_valuable_to_course_discussions.</th>\n",
       "      <th>Online_course_content_and_satisfaction_The_materials_in_my_online_courses_support_the_course_goals.</th>\n",
       "      <th>Online_course_content_and_satisfaction_The_class_video_recording_is_not_so_important_for_me.</th>\n",
       "      <th>Online_course_content_and_satisfaction_On-campus_class_face-to-face_class_and_online_class_are_the_same_for_me.</th>\n",
       "      <th>Online_course_content_and_satisfaction_I_think_I_learn_more_in_online_classes_than_in_on-campus_classes_face-to-face_classes.</th>\n",
       "      <th>Online_course_content_and_satisfaction_I_prefer_online_courses_to_on-campus_classes_face-to-face_classes.</th>\n",
       "      <th>Assignment_and_Homework_for_Online_Class_I_want_to_receive_homework_for_my_online_course.</th>\n",
       "      <th>Assignment_and_Homework_for_Online_Class_I_want_to_receive_the_assignment_for_my_online_course.</th>\n",
       "      <th>Assignment_and_Homework_for_Online_Class_I_want__to_participate_in_the_online_exam.</th>\n",
       "      <th>Assignment_and_Homework_for_Online_Class_I_want_to_participate_in_the_quiz_in_the_online_class.</th>\n",
       "    </tr>\n",
       "  </thead>\n",
       "  <tbody>\n",
       "    <tr>\n",
       "      <th>0</th>\n",
       "      <td>10/22/2020 14:13</td>\n",
       "      <td>Male</td>\n",
       "      <td>24</td>\n",
       "      <td>Rural</td>\n",
       "      <td>500</td>\n",
       "      <td>200</td>\n",
       "      <td>480</td>\n",
       "      <td>Yes</td>\n",
       "      <td>40000</td>\n",
       "      <td>Yes</td>\n",
       "      <td>...</td>\n",
       "      <td>Strongly agree</td>\n",
       "      <td>Agree</td>\n",
       "      <td>Strongly agree</td>\n",
       "      <td>Disagree</td>\n",
       "      <td>Disagree</td>\n",
       "      <td>Disagree</td>\n",
       "      <td>Strongly agree</td>\n",
       "      <td>Strongly agree</td>\n",
       "      <td>Strongly agree</td>\n",
       "      <td>Strongly agree</td>\n",
       "    </tr>\n",
       "    <tr>\n",
       "      <th>1</th>\n",
       "      <td>10/22/2020 14:14</td>\n",
       "      <td>Female</td>\n",
       "      <td>20</td>\n",
       "      <td>Urban</td>\n",
       "      <td>1000</td>\n",
       "      <td>200</td>\n",
       "      <td>420</td>\n",
       "      <td>No</td>\n",
       "      <td>50000</td>\n",
       "      <td>Yes</td>\n",
       "      <td>...</td>\n",
       "      <td>Agree</td>\n",
       "      <td>Agree</td>\n",
       "      <td>Strongly agree</td>\n",
       "      <td>Neither agree nor disagree</td>\n",
       "      <td>Neither agree nor disagree</td>\n",
       "      <td>Agree</td>\n",
       "      <td>Agree</td>\n",
       "      <td>Agree</td>\n",
       "      <td>Neither agree nor disagree</td>\n",
       "      <td>Agree</td>\n",
       "    </tr>\n",
       "    <tr>\n",
       "      <th>2</th>\n",
       "      <td>10/22/2020 14:20</td>\n",
       "      <td>Male</td>\n",
       "      <td>21</td>\n",
       "      <td>Semi-urban</td>\n",
       "      <td>1000</td>\n",
       "      <td>500</td>\n",
       "      <td>480</td>\n",
       "      <td>Yes</td>\n",
       "      <td>22000</td>\n",
       "      <td>Yes</td>\n",
       "      <td>...</td>\n",
       "      <td>Neither agree nor disagree</td>\n",
       "      <td>Neither agree nor disagree</td>\n",
       "      <td>Neither agree nor disagree</td>\n",
       "      <td>Neither agree nor disagree</td>\n",
       "      <td>Neither agree nor disagree</td>\n",
       "      <td>Neither agree nor disagree</td>\n",
       "      <td>Disagree</td>\n",
       "      <td>Neither agree nor disagree</td>\n",
       "      <td>Strongly disagree</td>\n",
       "      <td>Agree</td>\n",
       "    </tr>\n",
       "    <tr>\n",
       "      <th>3</th>\n",
       "      <td>10/22/2020 14:21</td>\n",
       "      <td>Female</td>\n",
       "      <td>20</td>\n",
       "      <td>Urban</td>\n",
       "      <td>500</td>\n",
       "      <td>100</td>\n",
       "      <td>240</td>\n",
       "      <td>No</td>\n",
       "      <td>20000</td>\n",
       "      <td>Yes</td>\n",
       "      <td>...</td>\n",
       "      <td>Agree</td>\n",
       "      <td>Agree</td>\n",
       "      <td>Disagree</td>\n",
       "      <td>Strongly disagree</td>\n",
       "      <td>Strongly disagree</td>\n",
       "      <td>Strongly disagree</td>\n",
       "      <td>Agree</td>\n",
       "      <td>Agree</td>\n",
       "      <td>Agree</td>\n",
       "      <td>Agree</td>\n",
       "    </tr>\n",
       "    <tr>\n",
       "      <th>4</th>\n",
       "      <td>10/22/2020 14:23</td>\n",
       "      <td>Female</td>\n",
       "      <td>21</td>\n",
       "      <td>Urban</td>\n",
       "      <td>500</td>\n",
       "      <td>100</td>\n",
       "      <td>180</td>\n",
       "      <td>No</td>\n",
       "      <td>50000</td>\n",
       "      <td>Yes</td>\n",
       "      <td>...</td>\n",
       "      <td>Strongly agree</td>\n",
       "      <td>Agree</td>\n",
       "      <td>Disagree</td>\n",
       "      <td>Disagree</td>\n",
       "      <td>Disagree</td>\n",
       "      <td>Disagree</td>\n",
       "      <td>Neither agree nor disagree</td>\n",
       "      <td>Strongly agree</td>\n",
       "      <td>Neither agree nor disagree</td>\n",
       "      <td>Disagree</td>\n",
       "    </tr>\n",
       "  </tbody>\n",
       "</table>\n",
       "<p>5 rows × 35 columns</p>\n",
       "</div>"
      ],
      "text/plain": [
       "          Timestamp Your_Gender_Name  Your_Age_in_Years  \\\n",
       "0  10/22/2020 14:13             Male                 24   \n",
       "1  10/22/2020 14:14           Female                 20   \n",
       "2  10/22/2020 14:20             Male                 21   \n",
       "3  10/22/2020 14:21           Female                 20   \n",
       "4  10/22/2020 14:23           Female                 21   \n",
       "\n",
       "  Your_Permanent_Resident_Area  \\\n",
       "0                        Rural   \n",
       "1                        Urban   \n",
       "2                   Semi-urban   \n",
       "3                        Urban   \n",
       "4                        Urban   \n",
       "\n",
       "   Monthly_Cost_for_Buying_Internet_with_Mobile_Data  \\\n",
       "0                                                500   \n",
       "1                                               1000   \n",
       "2                                               1000   \n",
       "3                                                500   \n",
       "4                                                500   \n",
       "\n",
       "   Monthly_Cost_for_only_Phone/Mobile_Call  \\\n",
       "0                                      200   \n",
       "1                                      200   \n",
       "2                                      500   \n",
       "3                                      100   \n",
       "4                                      100   \n",
       "\n",
       "   How_much_time_do_you_spend_daily_on_social_media_e.g.,_Facebook?_-_In_Minutes  \\\n",
       "0                                                480                               \n",
       "1                                                420                               \n",
       "2                                                480                               \n",
       "3                                                240                               \n",
       "4                                                180                               \n",
       "\n",
       "  Do_you_find_it_difficult_to_manage_your_expenses_for_your_study?  \\\n",
       "0                                                Yes                 \n",
       "1                                                 No                 \n",
       "2                                                Yes                 \n",
       "3                                                 No                 \n",
       "4                                                 No                 \n",
       "\n",
       "   Household_Monthly_Income Are_you_attending_online_classes_regularly?  ...  \\\n",
       "0                     40000                                         Yes  ...   \n",
       "1                     50000                                         Yes  ...   \n",
       "2                     22000                                         Yes  ...   \n",
       "3                     20000                                         Yes  ...   \n",
       "4                     50000                                         Yes  ...   \n",
       "\n",
       "  Online_course_interaction_The_lecture_material_in_my_online_courses_is_valuable_to_course_discussions.  \\\n",
       "0                                     Strongly agree                                                       \n",
       "1                                              Agree                                                       \n",
       "2                         Neither agree nor disagree                                                       \n",
       "3                                              Agree                                                       \n",
       "4                                     Strongly agree                                                       \n",
       "\n",
       "  Online_course_content_and_satisfaction_The_materials_in_my_online_courses_support_the_course_goals.  \\\n",
       "0                                              Agree                                                    \n",
       "1                                              Agree                                                    \n",
       "2                         Neither agree nor disagree                                                    \n",
       "3                                              Agree                                                    \n",
       "4                                              Agree                                                    \n",
       "\n",
       "  Online_course_content_and_satisfaction_The_class_video_recording_is_not_so_important_for_me.  \\\n",
       "0                                     Strongly agree                                             \n",
       "1                                     Strongly agree                                             \n",
       "2                         Neither agree nor disagree                                             \n",
       "3                                           Disagree                                             \n",
       "4                                           Disagree                                             \n",
       "\n",
       "  Online_course_content_and_satisfaction_On-campus_class_face-to-face_class_and_online_class_are_the_same_for_me.  \\\n",
       "0                                           Disagree                                                                \n",
       "1                         Neither agree nor disagree                                                                \n",
       "2                         Neither agree nor disagree                                                                \n",
       "3                                  Strongly disagree                                                                \n",
       "4                                           Disagree                                                                \n",
       "\n",
       "  Online_course_content_and_satisfaction_I_think_I_learn_more_in_online_classes_than_in_on-campus_classes_face-to-face_classes.  \\\n",
       "0                                           Disagree                                                                              \n",
       "1                         Neither agree nor disagree                                                                              \n",
       "2                         Neither agree nor disagree                                                                              \n",
       "3                                  Strongly disagree                                                                              \n",
       "4                                           Disagree                                                                              \n",
       "\n",
       "  Online_course_content_and_satisfaction_I_prefer_online_courses_to_on-campus_classes_face-to-face_classes.  \\\n",
       "0                                           Disagree                                                          \n",
       "1                                              Agree                                                          \n",
       "2                         Neither agree nor disagree                                                          \n",
       "3                                  Strongly disagree                                                          \n",
       "4                                           Disagree                                                          \n",
       "\n",
       "   Assignment_and_Homework_for_Online_Class_I_want_to_receive_homework_for_my_online_course.  \\\n",
       "0                                     Strongly agree                                           \n",
       "1                                              Agree                                           \n",
       "2                                           Disagree                                           \n",
       "3                                              Agree                                           \n",
       "4                         Neither agree nor disagree                                           \n",
       "\n",
       "  Assignment_and_Homework_for_Online_Class_I_want_to_receive_the_assignment_for_my_online_course.  \\\n",
       "0                                     Strongly agree                                                \n",
       "1                                              Agree                                                \n",
       "2                         Neither agree nor disagree                                                \n",
       "3                                              Agree                                                \n",
       "4                                     Strongly agree                                                \n",
       "\n",
       "  Assignment_and_Homework_for_Online_Class_I_want__to_participate_in_the_online_exam.  \\\n",
       "0                                     Strongly agree                                    \n",
       "1                         Neither agree nor disagree                                    \n",
       "2                                  Strongly disagree                                    \n",
       "3                                              Agree                                    \n",
       "4                         Neither agree nor disagree                                    \n",
       "\n",
       "  Assignment_and_Homework_for_Online_Class_I_want_to_participate_in_the_quiz_in_the_online_class.  \n",
       "0                                     Strongly agree                                               \n",
       "1                                              Agree                                               \n",
       "2                                              Agree                                               \n",
       "3                                              Agree                                               \n",
       "4                                           Disagree                                               \n",
       "\n",
       "[5 rows x 35 columns]"
      ]
     },
     "execution_count": 78,
     "metadata": {},
     "output_type": "execute_result"
    }
   ],
   "source": [
    "data.columns = data.columns.str.replace(' ', '_')\n",
    "data.columns = data.columns.str.replace('(', '')\n",
    "data.columns = data.columns.str.replace(')', '')\n",
    "data\n",
    "data.head()"
   ]
  },
  {
   "cell_type": "code",
   "execution_count": 79,
   "metadata": {
    "scrolled": true
   },
   "outputs": [
    {
     "data": {
      "text/plain": [
       "Index(['Timestamp', 'Your_Gender_Name', 'Your_Age_in_Years',\n",
       "       'Your_Permanent_Resident_Area',\n",
       "       'Monthly_Cost_for_Buying_Internet_with_Mobile_Data',\n",
       "       'Monthly_Cost_for_only_Phone/Mobile_Call',\n",
       "       'How_much_time_do_you_spend_daily_on_social_media_e.g.,_Facebook?_-_In_Minutes',\n",
       "       'Do_you_find_it_difficult_to_manage_your_expenses_for_your_study?',\n",
       "       'Household_Monthly_Income',\n",
       "       'Are_you_attending_online_classes_regularly?',\n",
       "       'Have_you_experienced_any_physical_problems_due_to_online_classes?',\n",
       "       'If_you_face_any_physical_problem,_then_what's_kind_of_problems_have_you_encountered?',\n",
       "       'What_device_do_you_use_for_the_online_class?',\n",
       "       'How_much_time_do_you_spend_each_day_on_an_average_in_the_online_classes_in_Hour',\n",
       "       'How_effective_has_remote_learning_been_for_you?',\n",
       "       'How_helpful_your_university_has_been_in_offering_you_the_resources_to_learn_from_home?',\n",
       "       'How_well_could_you_manage_time_while_learning_remotely?_Consider_5_being_extremely_well_and_1_being_not_at_all',\n",
       "       'How_helpful_are_your_teachers_while_studying_online?',\n",
       "       'How_helpful_was_the_class_material_provided_to_you?',\n",
       "       'I_want_to_receive_the_class_video_recording',\n",
       "       'Do_you_enjoy_learning_remotely?',\n",
       "       'Online_course_interaction_I_prefer_my_online_courses_to_be_very_structured_with_set_due_dates_similar_to_face-to-face_courses.',\n",
       "       'Online_course_interaction_My_online_courses_are_set_up_so_that_I_can_interact_with_my_classmates.',\n",
       "       'Online_course_interaction_Interaction_between_the_teacher_and_students_is_essential_to_online_learning.',\n",
       "       'Online_course_interaction_The_quality_of_discussions_in_my_online_courses_is_high.',\n",
       "       'Online_course_interaction_The_lecture_material_in_my_online_courses_is_valuable_to_course_discussions.',\n",
       "       'Online_course_content_and_satisfaction_The_materials_in_my_online_courses_support_the_course_goals.',\n",
       "       'Online_course_content_and_satisfaction_The_class_video_recording_is_not_so_important_for_me.',\n",
       "       'Online_course_content_and_satisfaction_On-campus_class_face-to-face_class_and_online_class_are_the_same_for_me.',\n",
       "       'Online_course_content_and_satisfaction_I_think_I_learn_more_in_online_classes_than_in_on-campus_classes_face-to-face_classes.',\n",
       "       'Online_course_content_and_satisfaction_I_prefer_online_courses_to_on-campus_classes_face-to-face_classes.',\n",
       "       'Assignment_and_Homework_for_Online_Class_I_want_to_receive_homework_for_my_online_course.',\n",
       "       'Assignment_and_Homework_for_Online_Class_I_want_to_receive_the_assignment_for_my_online_course.',\n",
       "       'Assignment_and_Homework_for_Online_Class_I_want__to_participate_in_the_online_exam.',\n",
       "       'Assignment_and_Homework_for_Online_Class_I_want_to_participate_in_the_quiz_in_the_online_class.'],\n",
       "      dtype='object')"
      ]
     },
     "execution_count": 79,
     "metadata": {},
     "output_type": "execute_result"
    }
   ],
   "source": [
    "data.columns"
   ]
  },
  {
   "cell_type": "code",
   "execution_count": 80,
   "metadata": {
    "scrolled": true
   },
   "outputs": [
    {
     "name": "stdout",
     "output_type": "stream",
     "text": [
      "   3to5\n",
      "   3to5\n",
      "   1to3\n",
      "   3to5\n",
      "   3to5\n",
      "   5to7\n",
      "   1to3\n",
      "   1to3\n",
      "   3to5\n",
      "   3to5\n",
      "   3to5\n",
      "   3to5\n",
      "   1to3\n",
      "   1to3\n",
      "   3to5\n",
      "   1to3\n",
      "   1to3\n",
      "   1to3\n",
      "   3to5\n",
      "   3to5\n",
      "   3to5\n",
      "   3to5\n",
      "   3to5\n",
      "   3to5\n",
      "   1to3\n",
      "   3to5\n",
      "   1to3\n",
      "   3to5\n",
      "   3to5\n",
      "   3to5\n",
      "   1to3\n",
      "   3to5\n",
      "   3to5\n",
      "   3to5\n",
      "   5to7\n",
      "   1to3\n",
      "   3to5\n",
      "   3to5\n",
      "   1to3\n",
      "   1to3\n",
      "   3to5\n",
      "   3to5\n",
      "   1to3\n",
      " 10to11\n",
      "   1to3\n",
      "   1to3\n",
      "   1to3\n",
      "   3to5\n",
      "   1to3\n",
      "   5to7\n"
     ]
    }
   ],
   "source": [
    "print(data.How_much_time_do_you_spend_each_day_on_an_average_in_the_online_classes_in_Hour.to_string(index=False))"
   ]
  },
  {
   "cell_type": "markdown",
   "metadata": {},
   "source": [
    "<h1>Converting time range into numeric values</h1>\n",
    "<p>We Need to create a Function in order to convert the above mentioned column to numeric values.</p>"
   ]
  },
  {
   "cell_type": "code",
   "execution_count": 81,
   "metadata": {
    "scrolled": true
   },
   "outputs": [],
   "source": [
    "def split_mean(x):\n",
    "    split_list = x.split('to')\n",
    "    mean = (float(split_list[0])+float(split_list[1]))/2\n",
    "    return mean\n",
    "\n",
    "data['How_much_time_do_you_spend_each_day_on_an_average_in_the_online_classes_in_Hour'] = data['How_much_time_do_you_spend_each_day_on_an_average_in_the_online_classes_in_Hour'].apply(lambda x: split_mean(x))"
   ]
  },
  {
   "cell_type": "code",
   "execution_count": 82,
   "metadata": {
    "scrolled": true
   },
   "outputs": [
    {
     "name": "stdout",
     "output_type": "stream",
     "text": [
      "  4.0\n",
      "  4.0\n",
      "  2.0\n",
      "  4.0\n",
      "  4.0\n",
      "  6.0\n",
      "  2.0\n",
      "  2.0\n",
      "  4.0\n",
      "  4.0\n",
      "  4.0\n",
      "  4.0\n",
      "  2.0\n",
      "  2.0\n",
      "  4.0\n",
      "  2.0\n",
      "  2.0\n",
      "  2.0\n",
      "  4.0\n",
      "  4.0\n",
      "  4.0\n",
      "  4.0\n",
      "  4.0\n",
      "  4.0\n",
      "  2.0\n",
      "  4.0\n",
      "  2.0\n",
      "  4.0\n",
      "  4.0\n",
      "  4.0\n",
      "  2.0\n",
      "  4.0\n",
      "  4.0\n",
      "  4.0\n",
      "  6.0\n",
      "  2.0\n",
      "  4.0\n",
      "  4.0\n",
      "  2.0\n",
      "  2.0\n",
      "  4.0\n",
      "  4.0\n",
      "  2.0\n",
      " 10.5\n",
      "  2.0\n",
      "  2.0\n",
      "  2.0\n",
      "  4.0\n",
      "  2.0\n",
      "  6.0\n"
     ]
    }
   ],
   "source": [
    "print(data.How_much_time_do_you_spend_each_day_on_an_average_in_the_online_classes_in_Hour.to_string(index=False))"
   ]
  },
  {
   "cell_type": "code",
   "execution_count": 83,
   "metadata": {
    "scrolled": true
   },
   "outputs": [
    {
     "data": {
      "text/html": [
       "<div>\n",
       "<style scoped>\n",
       "    .dataframe tbody tr th:only-of-type {\n",
       "        vertical-align: middle;\n",
       "    }\n",
       "\n",
       "    .dataframe tbody tr th {\n",
       "        vertical-align: top;\n",
       "    }\n",
       "\n",
       "    .dataframe thead th {\n",
       "        text-align: right;\n",
       "    }\n",
       "</style>\n",
       "<table border=\"1\" class=\"dataframe\">\n",
       "  <thead>\n",
       "    <tr style=\"text-align: right;\">\n",
       "      <th></th>\n",
       "      <th>Timestamp</th>\n",
       "      <th>Your_Gender_Name</th>\n",
       "      <th>Your_Age_in_Years</th>\n",
       "      <th>Your_Permanent_Resident_Area</th>\n",
       "      <th>Monthly_Cost_for_Buying_Internet_with_Mobile_Data</th>\n",
       "      <th>Monthly_Cost_for_only_Phone/Mobile_Call</th>\n",
       "      <th>How_much_time_do_you_spend_daily_on_social_media_e.g.,_Facebook?_-_In_Minutes</th>\n",
       "      <th>Do_you_find_it_difficult_to_manage_your_expenses_for_your_study?</th>\n",
       "      <th>Household_Monthly_Income</th>\n",
       "      <th>Are_you_attending_online_classes_regularly?</th>\n",
       "      <th>...</th>\n",
       "      <th>Online_course_interaction_The_lecture_material_in_my_online_courses_is_valuable_to_course_discussions.</th>\n",
       "      <th>Online_course_content_and_satisfaction_The_materials_in_my_online_courses_support_the_course_goals.</th>\n",
       "      <th>Online_course_content_and_satisfaction_The_class_video_recording_is_not_so_important_for_me.</th>\n",
       "      <th>Online_course_content_and_satisfaction_On-campus_class_face-to-face_class_and_online_class_are_the_same_for_me.</th>\n",
       "      <th>Online_course_content_and_satisfaction_I_think_I_learn_more_in_online_classes_than_in_on-campus_classes_face-to-face_classes.</th>\n",
       "      <th>Online_course_content_and_satisfaction_I_prefer_online_courses_to_on-campus_classes_face-to-face_classes.</th>\n",
       "      <th>Assignment_and_Homework_for_Online_Class_I_want_to_receive_homework_for_my_online_course.</th>\n",
       "      <th>Assignment_and_Homework_for_Online_Class_I_want_to_receive_the_assignment_for_my_online_course.</th>\n",
       "      <th>Assignment_and_Homework_for_Online_Class_I_want__to_participate_in_the_online_exam.</th>\n",
       "      <th>Assignment_and_Homework_for_Online_Class_I_want_to_participate_in_the_quiz_in_the_online_class.</th>\n",
       "    </tr>\n",
       "  </thead>\n",
       "  <tbody>\n",
       "    <tr>\n",
       "      <th>0</th>\n",
       "      <td>10/22/2020 14:13</td>\n",
       "      <td>Male</td>\n",
       "      <td>24</td>\n",
       "      <td>Rural</td>\n",
       "      <td>500</td>\n",
       "      <td>200</td>\n",
       "      <td>480</td>\n",
       "      <td>Yes</td>\n",
       "      <td>40000</td>\n",
       "      <td>Yes</td>\n",
       "      <td>...</td>\n",
       "      <td>Strongly agree</td>\n",
       "      <td>Agree</td>\n",
       "      <td>Strongly agree</td>\n",
       "      <td>Disagree</td>\n",
       "      <td>Disagree</td>\n",
       "      <td>Disagree</td>\n",
       "      <td>Strongly agree</td>\n",
       "      <td>Strongly agree</td>\n",
       "      <td>Strongly agree</td>\n",
       "      <td>Strongly agree</td>\n",
       "    </tr>\n",
       "    <tr>\n",
       "      <th>1</th>\n",
       "      <td>10/22/2020 14:14</td>\n",
       "      <td>Female</td>\n",
       "      <td>20</td>\n",
       "      <td>Urban</td>\n",
       "      <td>1000</td>\n",
       "      <td>200</td>\n",
       "      <td>420</td>\n",
       "      <td>No</td>\n",
       "      <td>50000</td>\n",
       "      <td>Yes</td>\n",
       "      <td>...</td>\n",
       "      <td>Agree</td>\n",
       "      <td>Agree</td>\n",
       "      <td>Strongly agree</td>\n",
       "      <td>Neither agree nor disagree</td>\n",
       "      <td>Neither agree nor disagree</td>\n",
       "      <td>Agree</td>\n",
       "      <td>Agree</td>\n",
       "      <td>Agree</td>\n",
       "      <td>Neither agree nor disagree</td>\n",
       "      <td>Agree</td>\n",
       "    </tr>\n",
       "    <tr>\n",
       "      <th>2</th>\n",
       "      <td>10/22/2020 14:20</td>\n",
       "      <td>Male</td>\n",
       "      <td>21</td>\n",
       "      <td>Semi-urban</td>\n",
       "      <td>1000</td>\n",
       "      <td>500</td>\n",
       "      <td>480</td>\n",
       "      <td>Yes</td>\n",
       "      <td>22000</td>\n",
       "      <td>Yes</td>\n",
       "      <td>...</td>\n",
       "      <td>Neither agree nor disagree</td>\n",
       "      <td>Neither agree nor disagree</td>\n",
       "      <td>Neither agree nor disagree</td>\n",
       "      <td>Neither agree nor disagree</td>\n",
       "      <td>Neither agree nor disagree</td>\n",
       "      <td>Neither agree nor disagree</td>\n",
       "      <td>Disagree</td>\n",
       "      <td>Neither agree nor disagree</td>\n",
       "      <td>Strongly disagree</td>\n",
       "      <td>Agree</td>\n",
       "    </tr>\n",
       "    <tr>\n",
       "      <th>3</th>\n",
       "      <td>10/22/2020 14:21</td>\n",
       "      <td>Female</td>\n",
       "      <td>20</td>\n",
       "      <td>Urban</td>\n",
       "      <td>500</td>\n",
       "      <td>100</td>\n",
       "      <td>240</td>\n",
       "      <td>No</td>\n",
       "      <td>20000</td>\n",
       "      <td>Yes</td>\n",
       "      <td>...</td>\n",
       "      <td>Agree</td>\n",
       "      <td>Agree</td>\n",
       "      <td>Disagree</td>\n",
       "      <td>Strongly disagree</td>\n",
       "      <td>Strongly disagree</td>\n",
       "      <td>Strongly disagree</td>\n",
       "      <td>Agree</td>\n",
       "      <td>Agree</td>\n",
       "      <td>Agree</td>\n",
       "      <td>Agree</td>\n",
       "    </tr>\n",
       "    <tr>\n",
       "      <th>4</th>\n",
       "      <td>10/22/2020 14:23</td>\n",
       "      <td>Female</td>\n",
       "      <td>21</td>\n",
       "      <td>Urban</td>\n",
       "      <td>500</td>\n",
       "      <td>100</td>\n",
       "      <td>180</td>\n",
       "      <td>No</td>\n",
       "      <td>50000</td>\n",
       "      <td>Yes</td>\n",
       "      <td>...</td>\n",
       "      <td>Strongly agree</td>\n",
       "      <td>Agree</td>\n",
       "      <td>Disagree</td>\n",
       "      <td>Disagree</td>\n",
       "      <td>Disagree</td>\n",
       "      <td>Disagree</td>\n",
       "      <td>Neither agree nor disagree</td>\n",
       "      <td>Strongly agree</td>\n",
       "      <td>Neither agree nor disagree</td>\n",
       "      <td>Disagree</td>\n",
       "    </tr>\n",
       "  </tbody>\n",
       "</table>\n",
       "<p>5 rows × 35 columns</p>\n",
       "</div>"
      ],
      "text/plain": [
       "          Timestamp Your_Gender_Name  Your_Age_in_Years  \\\n",
       "0  10/22/2020 14:13             Male                 24   \n",
       "1  10/22/2020 14:14           Female                 20   \n",
       "2  10/22/2020 14:20             Male                 21   \n",
       "3  10/22/2020 14:21           Female                 20   \n",
       "4  10/22/2020 14:23           Female                 21   \n",
       "\n",
       "  Your_Permanent_Resident_Area  \\\n",
       "0                        Rural   \n",
       "1                        Urban   \n",
       "2                   Semi-urban   \n",
       "3                        Urban   \n",
       "4                        Urban   \n",
       "\n",
       "   Monthly_Cost_for_Buying_Internet_with_Mobile_Data  \\\n",
       "0                                                500   \n",
       "1                                               1000   \n",
       "2                                               1000   \n",
       "3                                                500   \n",
       "4                                                500   \n",
       "\n",
       "   Monthly_Cost_for_only_Phone/Mobile_Call  \\\n",
       "0                                      200   \n",
       "1                                      200   \n",
       "2                                      500   \n",
       "3                                      100   \n",
       "4                                      100   \n",
       "\n",
       "   How_much_time_do_you_spend_daily_on_social_media_e.g.,_Facebook?_-_In_Minutes  \\\n",
       "0                                                480                               \n",
       "1                                                420                               \n",
       "2                                                480                               \n",
       "3                                                240                               \n",
       "4                                                180                               \n",
       "\n",
       "  Do_you_find_it_difficult_to_manage_your_expenses_for_your_study?  \\\n",
       "0                                                Yes                 \n",
       "1                                                 No                 \n",
       "2                                                Yes                 \n",
       "3                                                 No                 \n",
       "4                                                 No                 \n",
       "\n",
       "   Household_Monthly_Income Are_you_attending_online_classes_regularly?  ...  \\\n",
       "0                     40000                                         Yes  ...   \n",
       "1                     50000                                         Yes  ...   \n",
       "2                     22000                                         Yes  ...   \n",
       "3                     20000                                         Yes  ...   \n",
       "4                     50000                                         Yes  ...   \n",
       "\n",
       "  Online_course_interaction_The_lecture_material_in_my_online_courses_is_valuable_to_course_discussions.  \\\n",
       "0                                     Strongly agree                                                       \n",
       "1                                              Agree                                                       \n",
       "2                         Neither agree nor disagree                                                       \n",
       "3                                              Agree                                                       \n",
       "4                                     Strongly agree                                                       \n",
       "\n",
       "  Online_course_content_and_satisfaction_The_materials_in_my_online_courses_support_the_course_goals.  \\\n",
       "0                                              Agree                                                    \n",
       "1                                              Agree                                                    \n",
       "2                         Neither agree nor disagree                                                    \n",
       "3                                              Agree                                                    \n",
       "4                                              Agree                                                    \n",
       "\n",
       "  Online_course_content_and_satisfaction_The_class_video_recording_is_not_so_important_for_me.  \\\n",
       "0                                     Strongly agree                                             \n",
       "1                                     Strongly agree                                             \n",
       "2                         Neither agree nor disagree                                             \n",
       "3                                           Disagree                                             \n",
       "4                                           Disagree                                             \n",
       "\n",
       "   Online_course_content_and_satisfaction_On-campus_class_face-to-face_class_and_online_class_are_the_same_for_me.  \\\n",
       "0                                           Disagree                                                                 \n",
       "1                         Neither agree nor disagree                                                                 \n",
       "2                         Neither agree nor disagree                                                                 \n",
       "3                                  Strongly disagree                                                                 \n",
       "4                                           Disagree                                                                 \n",
       "\n",
       "  Online_course_content_and_satisfaction_I_think_I_learn_more_in_online_classes_than_in_on-campus_classes_face-to-face_classes.  \\\n",
       "0                                           Disagree                                                                              \n",
       "1                         Neither agree nor disagree                                                                              \n",
       "2                         Neither agree nor disagree                                                                              \n",
       "3                                  Strongly disagree                                                                              \n",
       "4                                           Disagree                                                                              \n",
       "\n",
       "  Online_course_content_and_satisfaction_I_prefer_online_courses_to_on-campus_classes_face-to-face_classes.  \\\n",
       "0                                           Disagree                                                          \n",
       "1                                              Agree                                                          \n",
       "2                         Neither agree nor disagree                                                          \n",
       "3                                  Strongly disagree                                                          \n",
       "4                                           Disagree                                                          \n",
       "\n",
       "   Assignment_and_Homework_for_Online_Class_I_want_to_receive_homework_for_my_online_course.  \\\n",
       "0                                     Strongly agree                                           \n",
       "1                                              Agree                                           \n",
       "2                                           Disagree                                           \n",
       "3                                              Agree                                           \n",
       "4                         Neither agree nor disagree                                           \n",
       "\n",
       "  Assignment_and_Homework_for_Online_Class_I_want_to_receive_the_assignment_for_my_online_course.  \\\n",
       "0                                     Strongly agree                                                \n",
       "1                                              Agree                                                \n",
       "2                         Neither agree nor disagree                                                \n",
       "3                                              Agree                                                \n",
       "4                                     Strongly agree                                                \n",
       "\n",
       "  Assignment_and_Homework_for_Online_Class_I_want__to_participate_in_the_online_exam.  \\\n",
       "0                                     Strongly agree                                    \n",
       "1                         Neither agree nor disagree                                    \n",
       "2                                  Strongly disagree                                    \n",
       "3                                              Agree                                    \n",
       "4                         Neither agree nor disagree                                    \n",
       "\n",
       "  Assignment_and_Homework_for_Online_Class_I_want_to_participate_in_the_quiz_in_the_online_class.  \n",
       "0                                     Strongly agree                                               \n",
       "1                                              Agree                                               \n",
       "2                                              Agree                                               \n",
       "3                                              Agree                                               \n",
       "4                                           Disagree                                               \n",
       "\n",
       "[5 rows x 35 columns]"
      ]
     },
     "execution_count": 83,
     "metadata": {},
     "output_type": "execute_result"
    }
   ],
   "source": [
    "data.head()"
   ]
  },
  {
   "cell_type": "code",
   "execution_count": 84,
   "metadata": {
    "scrolled": true
   },
   "outputs": [
    {
     "data": {
      "text/html": [
       "<div>\n",
       "<style scoped>\n",
       "    .dataframe tbody tr th:only-of-type {\n",
       "        vertical-align: middle;\n",
       "    }\n",
       "\n",
       "    .dataframe tbody tr th {\n",
       "        vertical-align: top;\n",
       "    }\n",
       "\n",
       "    .dataframe thead th {\n",
       "        text-align: right;\n",
       "    }\n",
       "</style>\n",
       "<table border=\"1\" class=\"dataframe\">\n",
       "  <thead>\n",
       "    <tr style=\"text-align: right;\">\n",
       "      <th></th>\n",
       "      <th>Timestamp</th>\n",
       "      <th>Your_Gender_Name</th>\n",
       "      <th>Your_Age_in_Years</th>\n",
       "      <th>Your_Permanent_Resident_Area</th>\n",
       "      <th>Monthly_Cost_for_Buying_Internet_with_Mobile_Data</th>\n",
       "      <th>Monthly_Cost_for_only_Phone/Mobile_Call</th>\n",
       "      <th>How_much_time_do_you_spend_daily_on_social_media_e.g.,_Facebook?_-_In_Minutes</th>\n",
       "      <th>Do_you_find_it_difficult_to_manage_your_expenses_for_your_study?</th>\n",
       "      <th>Household_Monthly_Income</th>\n",
       "      <th>Are_you_attending_online_classes_regularly?</th>\n",
       "      <th>...</th>\n",
       "      <th>Online_course_interaction_The_lecture_material_in_my_online_courses_is_valuable_to_course_discussions.</th>\n",
       "      <th>Online_course_content_and_satisfaction_The_materials_in_my_online_courses_support_the_course_goals.</th>\n",
       "      <th>Online_course_content_and_satisfaction_The_class_video_recording_is_not_so_important_for_me.</th>\n",
       "      <th>Online_course_content_and_satisfaction_On-campus_class_face-to-face_class_and_online_class_are_the_same_for_me.</th>\n",
       "      <th>Online_course_content_and_satisfaction_I_think_I_learn_more_in_online_classes_than_in_on-campus_classes_face-to-face_classes.</th>\n",
       "      <th>Online_course_content_and_satisfaction_I_prefer_online_courses_to_on-campus_classes_face-to-face_classes.</th>\n",
       "      <th>Assignment_and_Homework_for_Online_Class_I_want_to_receive_homework_for_my_online_course.</th>\n",
       "      <th>Assignment_and_Homework_for_Online_Class_I_want_to_receive_the_assignment_for_my_online_course.</th>\n",
       "      <th>Assignment_and_Homework_for_Online_Class_I_want__to_participate_in_the_online_exam.</th>\n",
       "      <th>Assignment_and_Homework_for_Online_Class_I_want_to_participate_in_the_quiz_in_the_online_class.</th>\n",
       "    </tr>\n",
       "  </thead>\n",
       "  <tbody>\n",
       "    <tr>\n",
       "      <th>45</th>\n",
       "      <td>10/22/2020 16:01</td>\n",
       "      <td>Male</td>\n",
       "      <td>20</td>\n",
       "      <td>Urban</td>\n",
       "      <td>150</td>\n",
       "      <td>50</td>\n",
       "      <td>120</td>\n",
       "      <td>No</td>\n",
       "      <td>80000</td>\n",
       "      <td>Yes</td>\n",
       "      <td>...</td>\n",
       "      <td>Neither agree nor disagree</td>\n",
       "      <td>Neither agree nor disagree</td>\n",
       "      <td>Neither agree nor disagree</td>\n",
       "      <td>Neither agree nor disagree</td>\n",
       "      <td>Disagree</td>\n",
       "      <td>Disagree</td>\n",
       "      <td>Neither agree nor disagree</td>\n",
       "      <td>Neither agree nor disagree</td>\n",
       "      <td>Neither agree nor disagree</td>\n",
       "      <td>Neither agree nor disagree</td>\n",
       "    </tr>\n",
       "    <tr>\n",
       "      <th>46</th>\n",
       "      <td>10/22/2020 16:02</td>\n",
       "      <td>Male</td>\n",
       "      <td>25</td>\n",
       "      <td>Rural</td>\n",
       "      <td>400</td>\n",
       "      <td>150</td>\n",
       "      <td>180</td>\n",
       "      <td>Yes</td>\n",
       "      <td>20000</td>\n",
       "      <td>Yes</td>\n",
       "      <td>...</td>\n",
       "      <td>Strongly agree</td>\n",
       "      <td>Strongly agree</td>\n",
       "      <td>Neither agree nor disagree</td>\n",
       "      <td>Neither agree nor disagree</td>\n",
       "      <td>Neither agree nor disagree</td>\n",
       "      <td>Neither agree nor disagree</td>\n",
       "      <td>Agree</td>\n",
       "      <td>Agree</td>\n",
       "      <td>Agree</td>\n",
       "      <td>Agree</td>\n",
       "    </tr>\n",
       "    <tr>\n",
       "      <th>47</th>\n",
       "      <td>10/22/2020 16:06</td>\n",
       "      <td>Female</td>\n",
       "      <td>20</td>\n",
       "      <td>Urban</td>\n",
       "      <td>1500</td>\n",
       "      <td>200</td>\n",
       "      <td>60</td>\n",
       "      <td>Yes</td>\n",
       "      <td>200000</td>\n",
       "      <td>Yes</td>\n",
       "      <td>...</td>\n",
       "      <td>Neither agree nor disagree</td>\n",
       "      <td>Agree</td>\n",
       "      <td>Disagree</td>\n",
       "      <td>Strongly disagree</td>\n",
       "      <td>Strongly disagree</td>\n",
       "      <td>Agree</td>\n",
       "      <td>Disagree</td>\n",
       "      <td>Agree</td>\n",
       "      <td>Agree</td>\n",
       "      <td>Agree</td>\n",
       "    </tr>\n",
       "    <tr>\n",
       "      <th>48</th>\n",
       "      <td>10/22/2020 16:06</td>\n",
       "      <td>Female</td>\n",
       "      <td>20</td>\n",
       "      <td>Urban</td>\n",
       "      <td>1000</td>\n",
       "      <td>100</td>\n",
       "      <td>60</td>\n",
       "      <td>Yes</td>\n",
       "      <td>50000</td>\n",
       "      <td>Yes</td>\n",
       "      <td>...</td>\n",
       "      <td>Agree</td>\n",
       "      <td>Strongly agree</td>\n",
       "      <td>Agree</td>\n",
       "      <td>Strongly disagree</td>\n",
       "      <td>Strongly disagree</td>\n",
       "      <td>Strongly disagree</td>\n",
       "      <td>Disagree</td>\n",
       "      <td>Agree</td>\n",
       "      <td>Strongly disagree</td>\n",
       "      <td>Neither agree nor disagree</td>\n",
       "    </tr>\n",
       "    <tr>\n",
       "      <th>49</th>\n",
       "      <td>10/22/2020 16:08</td>\n",
       "      <td>Female</td>\n",
       "      <td>20</td>\n",
       "      <td>Urban</td>\n",
       "      <td>0</td>\n",
       "      <td>15</td>\n",
       "      <td>720</td>\n",
       "      <td>No</td>\n",
       "      <td>150000</td>\n",
       "      <td>Yes</td>\n",
       "      <td>...</td>\n",
       "      <td>Strongly agree</td>\n",
       "      <td>Strongly agree</td>\n",
       "      <td>Disagree</td>\n",
       "      <td>Agree</td>\n",
       "      <td>Disagree</td>\n",
       "      <td>Neither agree nor disagree</td>\n",
       "      <td>Agree</td>\n",
       "      <td>Agree</td>\n",
       "      <td>Agree</td>\n",
       "      <td>Agree</td>\n",
       "    </tr>\n",
       "  </tbody>\n",
       "</table>\n",
       "<p>5 rows × 35 columns</p>\n",
       "</div>"
      ],
      "text/plain": [
       "           Timestamp Your_Gender_Name  Your_Age_in_Years  \\\n",
       "45  10/22/2020 16:01             Male                 20   \n",
       "46  10/22/2020 16:02             Male                 25   \n",
       "47  10/22/2020 16:06           Female                 20   \n",
       "48  10/22/2020 16:06           Female                 20   \n",
       "49  10/22/2020 16:08           Female                 20   \n",
       "\n",
       "   Your_Permanent_Resident_Area  \\\n",
       "45                        Urban   \n",
       "46                        Rural   \n",
       "47                        Urban   \n",
       "48                        Urban   \n",
       "49                        Urban   \n",
       "\n",
       "    Monthly_Cost_for_Buying_Internet_with_Mobile_Data  \\\n",
       "45                                                150   \n",
       "46                                                400   \n",
       "47                                               1500   \n",
       "48                                               1000   \n",
       "49                                                  0   \n",
       "\n",
       "    Monthly_Cost_for_only_Phone/Mobile_Call  \\\n",
       "45                                       50   \n",
       "46                                      150   \n",
       "47                                      200   \n",
       "48                                      100   \n",
       "49                                       15   \n",
       "\n",
       "    How_much_time_do_you_spend_daily_on_social_media_e.g.,_Facebook?_-_In_Minutes  \\\n",
       "45                                                120                               \n",
       "46                                                180                               \n",
       "47                                                 60                               \n",
       "48                                                 60                               \n",
       "49                                                720                               \n",
       "\n",
       "   Do_you_find_it_difficult_to_manage_your_expenses_for_your_study?  \\\n",
       "45                                                 No                 \n",
       "46                                                Yes                 \n",
       "47                                                Yes                 \n",
       "48                                                Yes                 \n",
       "49                                                 No                 \n",
       "\n",
       "    Household_Monthly_Income Are_you_attending_online_classes_regularly?  ...  \\\n",
       "45                     80000                                         Yes  ...   \n",
       "46                     20000                                         Yes  ...   \n",
       "47                    200000                                         Yes  ...   \n",
       "48                     50000                                         Yes  ...   \n",
       "49                    150000                                         Yes  ...   \n",
       "\n",
       "   Online_course_interaction_The_lecture_material_in_my_online_courses_is_valuable_to_course_discussions.  \\\n",
       "45                         Neither agree nor disagree                                                       \n",
       "46                                     Strongly agree                                                       \n",
       "47                         Neither agree nor disagree                                                       \n",
       "48                                              Agree                                                       \n",
       "49                                     Strongly agree                                                       \n",
       "\n",
       "   Online_course_content_and_satisfaction_The_materials_in_my_online_courses_support_the_course_goals.  \\\n",
       "45                         Neither agree nor disagree                                                    \n",
       "46                                     Strongly agree                                                    \n",
       "47                                              Agree                                                    \n",
       "48                                     Strongly agree                                                    \n",
       "49                                     Strongly agree                                                    \n",
       "\n",
       "   Online_course_content_and_satisfaction_The_class_video_recording_is_not_so_important_for_me.  \\\n",
       "45                         Neither agree nor disagree                                             \n",
       "46                         Neither agree nor disagree                                             \n",
       "47                                           Disagree                                             \n",
       "48                                              Agree                                             \n",
       "49                                           Disagree                                             \n",
       "\n",
       "    Online_course_content_and_satisfaction_On-campus_class_face-to-face_class_and_online_class_are_the_same_for_me.  \\\n",
       "45                         Neither agree nor disagree                                                                 \n",
       "46                         Neither agree nor disagree                                                                 \n",
       "47                                  Strongly disagree                                                                 \n",
       "48                                  Strongly disagree                                                                 \n",
       "49                                              Agree                                                                 \n",
       "\n",
       "   Online_course_content_and_satisfaction_I_think_I_learn_more_in_online_classes_than_in_on-campus_classes_face-to-face_classes.  \\\n",
       "45                                           Disagree                                                                              \n",
       "46                         Neither agree nor disagree                                                                              \n",
       "47                                  Strongly disagree                                                                              \n",
       "48                                  Strongly disagree                                                                              \n",
       "49                                           Disagree                                                                              \n",
       "\n",
       "   Online_course_content_and_satisfaction_I_prefer_online_courses_to_on-campus_classes_face-to-face_classes.  \\\n",
       "45                                           Disagree                                                          \n",
       "46                         Neither agree nor disagree                                                          \n",
       "47                                              Agree                                                          \n",
       "48                                  Strongly disagree                                                          \n",
       "49                         Neither agree nor disagree                                                          \n",
       "\n",
       "    Assignment_and_Homework_for_Online_Class_I_want_to_receive_homework_for_my_online_course.  \\\n",
       "45                         Neither agree nor disagree                                           \n",
       "46                                              Agree                                           \n",
       "47                                           Disagree                                           \n",
       "48                                           Disagree                                           \n",
       "49                                              Agree                                           \n",
       "\n",
       "   Assignment_and_Homework_for_Online_Class_I_want_to_receive_the_assignment_for_my_online_course.  \\\n",
       "45                         Neither agree nor disagree                                                \n",
       "46                                              Agree                                                \n",
       "47                                              Agree                                                \n",
       "48                                              Agree                                                \n",
       "49                                              Agree                                                \n",
       "\n",
       "   Assignment_and_Homework_for_Online_Class_I_want__to_participate_in_the_online_exam.  \\\n",
       "45                         Neither agree nor disagree                                    \n",
       "46                                              Agree                                    \n",
       "47                                              Agree                                    \n",
       "48                                  Strongly disagree                                    \n",
       "49                                              Agree                                    \n",
       "\n",
       "   Assignment_and_Homework_for_Online_Class_I_want_to_participate_in_the_quiz_in_the_online_class.  \n",
       "45                         Neither agree nor disagree                                               \n",
       "46                                              Agree                                               \n",
       "47                                              Agree                                               \n",
       "48                         Neither agree nor disagree                                               \n",
       "49                                              Agree                                               \n",
       "\n",
       "[5 rows x 35 columns]"
      ]
     },
     "execution_count": 84,
     "metadata": {},
     "output_type": "execute_result"
    }
   ],
   "source": [
    "data.tail()"
   ]
  },
  {
   "cell_type": "code",
   "execution_count": 85,
   "metadata": {},
   "outputs": [
    {
     "name": "stdout",
     "output_type": "stream",
     "text": [
      "The no of data points are: 50\n",
      "========================================\n",
      "The no of features are: 35\n",
      "========================================\n"
     ]
    }
   ],
   "source": [
    "print('The no of data points are:',data.shape[0])\n",
    "print('='*40)\n",
    "print('The no of features are:',data.shape[1])\n",
    "print('='*40)"
   ]
  },
  {
   "cell_type": "code",
   "execution_count": 86,
   "metadata": {
    "scrolled": true
   },
   "outputs": [
    {
     "name": "stdout",
     "output_type": "stream",
     "text": [
      "<class 'pandas.core.frame.DataFrame'>\n",
      "RangeIndex: 50 entries, 0 to 49\n",
      "Data columns (total 35 columns):\n",
      "Timestamp                                                                                                                         50 non-null object\n",
      "Your_Gender_Name                                                                                                                  50 non-null object\n",
      "Your_Age_in_Years                                                                                                                 50 non-null int64\n",
      "Your_Permanent_Resident_Area                                                                                                      50 non-null object\n",
      "Monthly_Cost_for_Buying_Internet_with_Mobile_Data                                                                                 50 non-null int64\n",
      "Monthly_Cost_for_only_Phone/Mobile_Call                                                                                           50 non-null int64\n",
      "How_much_time_do_you_spend_daily_on_social_media_e.g.,_Facebook?_-_In_Minutes                                                     50 non-null int64\n",
      "Do_you_find_it_difficult_to_manage_your_expenses_for_your_study?                                                                  50 non-null object\n",
      "Household_Monthly_Income                                                                                                          50 non-null int64\n",
      "Are_you_attending_online_classes_regularly?                                                                                       50 non-null object\n",
      "Have_you_experienced_any_physical_problems_due_to_online_classes?                                                                 49 non-null object\n",
      "If_you_face_any_physical_problem,_then_what's_kind_of_problems_have_you_encountered?                                              45 non-null object\n",
      "What_device_do_you_use_for_the_online_class?                                                                                      50 non-null object\n",
      "How_much_time_do_you_spend_each_day_on_an_average_in_the_online_classes_in_Hour                                                   50 non-null float64\n",
      "How_effective_has_remote_learning_been_for_you?                                                                                   50 non-null object\n",
      "How_helpful_your_university_has_been_in_offering_you_the_resources_to_learn_from_home?                                            50 non-null object\n",
      "How_well_could_you_manage_time_while_learning_remotely?_Consider_5_being_extremely_well_and_1_being_not_at_all                    50 non-null int64\n",
      "How_helpful_are_your_teachers_while_studying_online?                                                                              50 non-null object\n",
      "How_helpful_was_the_class_material_provided_to_you?                                                                               50 non-null object\n",
      "I_want_to_receive_the_class_video_recording                                                                                       49 non-null object\n",
      "Do_you_enjoy_learning_remotely?                                                                                                   50 non-null object\n",
      "Online_course_interaction_I_prefer_my_online_courses_to_be_very_structured_with_set_due_dates_similar_to_face-to-face_courses.    50 non-null object\n",
      "Online_course_interaction_My_online_courses_are_set_up_so_that_I_can_interact_with_my_classmates.                                 50 non-null object\n",
      "Online_course_interaction_Interaction_between_the_teacher_and_students_is_essential_to_online_learning.                           50 non-null object\n",
      "Online_course_interaction_The_quality_of_discussions_in_my_online_courses_is_high.                                                50 non-null object\n",
      "Online_course_interaction_The_lecture_material_in_my_online_courses_is_valuable_to_course_discussions.                            50 non-null object\n",
      "Online_course_content_and_satisfaction_The_materials_in_my_online_courses_support_the_course_goals.                               50 non-null object\n",
      "Online_course_content_and_satisfaction_The_class_video_recording_is_not_so_important_for_me.                                      50 non-null object\n",
      "Online_course_content_and_satisfaction_On-campus_class_face-to-face_class_and_online_class_are_the_same_for_me.                   50 non-null object\n",
      "Online_course_content_and_satisfaction_I_think_I_learn_more_in_online_classes_than_in_on-campus_classes_face-to-face_classes.     50 non-null object\n",
      "Online_course_content_and_satisfaction_I_prefer_online_courses_to_on-campus_classes_face-to-face_classes.                         50 non-null object\n",
      "Assignment_and_Homework_for_Online_Class_I_want_to_receive_homework_for_my_online_course.                                         50 non-null object\n",
      "Assignment_and_Homework_for_Online_Class_I_want_to_receive_the_assignment_for_my_online_course.                                   50 non-null object\n",
      "Assignment_and_Homework_for_Online_Class_I_want__to_participate_in_the_online_exam.                                               50 non-null object\n",
      "Assignment_and_Homework_for_Online_Class_I_want_to_participate_in_the_quiz_in_the_online_class.                                   50 non-null object\n",
      "dtypes: float64(1), int64(6), object(28)\n",
      "memory usage: 13.8+ KB\n"
     ]
    }
   ],
   "source": [
    "data.info()"
   ]
  },
  {
   "cell_type": "code",
   "execution_count": 87,
   "metadata": {
    "scrolled": false
   },
   "outputs": [
    {
     "data": {
      "text/html": [
       "<div>\n",
       "<style scoped>\n",
       "    .dataframe tbody tr th:only-of-type {\n",
       "        vertical-align: middle;\n",
       "    }\n",
       "\n",
       "    .dataframe tbody tr th {\n",
       "        vertical-align: top;\n",
       "    }\n",
       "\n",
       "    .dataframe thead th {\n",
       "        text-align: right;\n",
       "    }\n",
       "</style>\n",
       "<table border=\"1\" class=\"dataframe\">\n",
       "  <thead>\n",
       "    <tr style=\"text-align: right;\">\n",
       "      <th></th>\n",
       "      <th>Your_Age_in_Years</th>\n",
       "      <th>Monthly_Cost_for_Buying_Internet_with_Mobile_Data</th>\n",
       "      <th>Monthly_Cost_for_only_Phone/Mobile_Call</th>\n",
       "      <th>How_much_time_do_you_spend_daily_on_social_media_e.g.,_Facebook?_-_In_Minutes</th>\n",
       "      <th>Household_Monthly_Income</th>\n",
       "      <th>How_much_time_do_you_spend_each_day_on_an_average_in_the_online_classes_in_Hour</th>\n",
       "      <th>How_well_could_you_manage_time_while_learning_remotely?_Consider_5_being_extremely_well_and_1_being_not_at_all</th>\n",
       "    </tr>\n",
       "  </thead>\n",
       "  <tbody>\n",
       "    <tr>\n",
       "      <th>count</th>\n",
       "      <td>50.000000</td>\n",
       "      <td>50.000000</td>\n",
       "      <td>50.000000</td>\n",
       "      <td>50.000000</td>\n",
       "      <td>50.00000</td>\n",
       "      <td>50.000000</td>\n",
       "      <td>50.000000</td>\n",
       "    </tr>\n",
       "    <tr>\n",
       "      <th>mean</th>\n",
       "      <td>21.340000</td>\n",
       "      <td>831.000000</td>\n",
       "      <td>251.300000</td>\n",
       "      <td>209.700000</td>\n",
       "      <td>93980.90000</td>\n",
       "      <td>3.490000</td>\n",
       "      <td>2.520000</td>\n",
       "    </tr>\n",
       "    <tr>\n",
       "      <th>std</th>\n",
       "      <td>1.697657</td>\n",
       "      <td>626.774216</td>\n",
       "      <td>345.954477</td>\n",
       "      <td>150.503949</td>\n",
       "      <td>183437.61236</td>\n",
       "      <td>1.546853</td>\n",
       "      <td>0.838852</td>\n",
       "    </tr>\n",
       "    <tr>\n",
       "      <th>min</th>\n",
       "      <td>19.000000</td>\n",
       "      <td>0.000000</td>\n",
       "      <td>15.000000</td>\n",
       "      <td>30.000000</td>\n",
       "      <td>0.00000</td>\n",
       "      <td>2.000000</td>\n",
       "      <td>1.000000</td>\n",
       "    </tr>\n",
       "    <tr>\n",
       "      <th>25%</th>\n",
       "      <td>20.000000</td>\n",
       "      <td>500.000000</td>\n",
       "      <td>100.000000</td>\n",
       "      <td>120.000000</td>\n",
       "      <td>30000.00000</td>\n",
       "      <td>2.000000</td>\n",
       "      <td>2.000000</td>\n",
       "    </tr>\n",
       "    <tr>\n",
       "      <th>50%</th>\n",
       "      <td>21.000000</td>\n",
       "      <td>500.000000</td>\n",
       "      <td>175.000000</td>\n",
       "      <td>180.000000</td>\n",
       "      <td>50000.00000</td>\n",
       "      <td>4.000000</td>\n",
       "      <td>3.000000</td>\n",
       "    </tr>\n",
       "    <tr>\n",
       "      <th>75%</th>\n",
       "      <td>22.000000</td>\n",
       "      <td>1200.000000</td>\n",
       "      <td>200.000000</td>\n",
       "      <td>240.000000</td>\n",
       "      <td>70000.00000</td>\n",
       "      <td>4.000000</td>\n",
       "      <td>3.000000</td>\n",
       "    </tr>\n",
       "    <tr>\n",
       "      <th>max</th>\n",
       "      <td>29.000000</td>\n",
       "      <td>3000.000000</td>\n",
       "      <td>2000.000000</td>\n",
       "      <td>720.000000</td>\n",
       "      <td>1000000.00000</td>\n",
       "      <td>10.500000</td>\n",
       "      <td>5.000000</td>\n",
       "    </tr>\n",
       "  </tbody>\n",
       "</table>\n",
       "</div>"
      ],
      "text/plain": [
       "       Your_Age_in_Years  Monthly_Cost_for_Buying_Internet_with_Mobile_Data  \\\n",
       "count          50.000000                                          50.000000   \n",
       "mean           21.340000                                         831.000000   \n",
       "std             1.697657                                         626.774216   \n",
       "min            19.000000                                           0.000000   \n",
       "25%            20.000000                                         500.000000   \n",
       "50%            21.000000                                         500.000000   \n",
       "75%            22.000000                                        1200.000000   \n",
       "max            29.000000                                        3000.000000   \n",
       "\n",
       "       Monthly_Cost_for_only_Phone/Mobile_Call  \\\n",
       "count                                50.000000   \n",
       "mean                                251.300000   \n",
       "std                                 345.954477   \n",
       "min                                  15.000000   \n",
       "25%                                 100.000000   \n",
       "50%                                 175.000000   \n",
       "75%                                 200.000000   \n",
       "max                                2000.000000   \n",
       "\n",
       "       How_much_time_do_you_spend_daily_on_social_media_e.g.,_Facebook?_-_In_Minutes  \\\n",
       "count                                          50.000000                               \n",
       "mean                                          209.700000                               \n",
       "std                                           150.503949                               \n",
       "min                                            30.000000                               \n",
       "25%                                           120.000000                               \n",
       "50%                                           180.000000                               \n",
       "75%                                           240.000000                               \n",
       "max                                           720.000000                               \n",
       "\n",
       "       Household_Monthly_Income  \\\n",
       "count                  50.00000   \n",
       "mean                93980.90000   \n",
       "std                183437.61236   \n",
       "min                     0.00000   \n",
       "25%                 30000.00000   \n",
       "50%                 50000.00000   \n",
       "75%                 70000.00000   \n",
       "max               1000000.00000   \n",
       "\n",
       "       How_much_time_do_you_spend_each_day_on_an_average_in_the_online_classes_in_Hour  \\\n",
       "count                                          50.000000                                 \n",
       "mean                                            3.490000                                 \n",
       "std                                             1.546853                                 \n",
       "min                                             2.000000                                 \n",
       "25%                                             2.000000                                 \n",
       "50%                                             4.000000                                 \n",
       "75%                                             4.000000                                 \n",
       "max                                            10.500000                                 \n",
       "\n",
       "       How_well_could_you_manage_time_while_learning_remotely?_Consider_5_being_extremely_well_and_1_being_not_at_all  \n",
       "count                                          50.000000                                                               \n",
       "mean                                            2.520000                                                               \n",
       "std                                             0.838852                                                               \n",
       "min                                             1.000000                                                               \n",
       "25%                                             2.000000                                                               \n",
       "50%                                             3.000000                                                               \n",
       "75%                                             3.000000                                                               \n",
       "max                                             5.000000                                                               "
      ]
     },
     "execution_count": 87,
     "metadata": {},
     "output_type": "execute_result"
    }
   ],
   "source": [
    "data.describe()"
   ]
  },
  {
   "cell_type": "code",
   "execution_count": 88,
   "metadata": {
    "scrolled": true
   },
   "outputs": [
    {
     "data": {
      "text/plain": [
       "Timestamp                                                                                                                         33\n",
       "Your_Gender_Name                                                                                                                   2\n",
       "Your_Age_in_Years                                                                                                                  8\n",
       "Your_Permanent_Resident_Area                                                                                                       3\n",
       "Monthly_Cost_for_Buying_Internet_with_Mobile_Data                                                                                 17\n",
       "Monthly_Cost_for_only_Phone/Mobile_Call                                                                                           12\n",
       "How_much_time_do_you_spend_daily_on_social_media_e.g.,_Facebook?_-_In_Minutes                                                     15\n",
       "Do_you_find_it_difficult_to_manage_your_expenses_for_your_study?                                                                   2\n",
       "Household_Monthly_Income                                                                                                          19\n",
       "Are_you_attending_online_classes_regularly?                                                                                        2\n",
       "Have_you_experienced_any_physical_problems_due_to_online_classes?                                                                  2\n",
       "If_you_face_any_physical_problem,_then_what's_kind_of_problems_have_you_encountered?                                              12\n",
       "What_device_do_you_use_for_the_online_class?                                                                                       4\n",
       "How_much_time_do_you_spend_each_day_on_an_average_in_the_online_classes_in_Hour                                                    4\n",
       "How_effective_has_remote_learning_been_for_you?                                                                                    3\n",
       "How_helpful_your_university_has_been_in_offering_you_the_resources_to_learn_from_home?                                             4\n",
       "How_well_could_you_manage_time_while_learning_remotely?_Consider_5_being_extremely_well_and_1_being_not_at_all                     5\n",
       "How_helpful_are_your_teachers_while_studying_online?                                                                               4\n",
       "How_helpful_was_the_class_material_provided_to_you?                                                                                4\n",
       "I_want_to_receive_the_class_video_recording                                                                                        3\n",
       "Do_you_enjoy_learning_remotely?                                                                                                    4\n",
       "Online_course_interaction_I_prefer_my_online_courses_to_be_very_structured_with_set_due_dates_similar_to_face-to-face_courses.     5\n",
       "Online_course_interaction_My_online_courses_are_set_up_so_that_I_can_interact_with_my_classmates.                                  4\n",
       "Online_course_interaction_Interaction_between_the_teacher_and_students_is_essential_to_online_learning.                            4\n",
       "Online_course_interaction_The_quality_of_discussions_in_my_online_courses_is_high.                                                 5\n",
       "Online_course_interaction_The_lecture_material_in_my_online_courses_is_valuable_to_course_discussions.                             4\n",
       "Online_course_content_and_satisfaction_The_materials_in_my_online_courses_support_the_course_goals.                                5\n",
       "Online_course_content_and_satisfaction_The_class_video_recording_is_not_so_important_for_me.                                       5\n",
       "Online_course_content_and_satisfaction_On-campus_class_face-to-face_class_and_online_class_are_the_same_for_me.                    5\n",
       "Online_course_content_and_satisfaction_I_think_I_learn_more_in_online_classes_than_in_on-campus_classes_face-to-face_classes.      5\n",
       "Online_course_content_and_satisfaction_I_prefer_online_courses_to_on-campus_classes_face-to-face_classes.                          5\n",
       "Assignment_and_Homework_for_Online_Class_I_want_to_receive_homework_for_my_online_course.                                          5\n",
       "Assignment_and_Homework_for_Online_Class_I_want_to_receive_the_assignment_for_my_online_course.                                    5\n",
       "Assignment_and_Homework_for_Online_Class_I_want__to_participate_in_the_online_exam.                                                5\n",
       "Assignment_and_Homework_for_Online_Class_I_want_to_participate_in_the_quiz_in_the_online_class.                                    5\n",
       "dtype: int64"
      ]
     },
     "execution_count": 88,
     "metadata": {},
     "output_type": "execute_result"
    }
   ],
   "source": [
    "data.nunique()"
   ]
  },
  {
   "cell_type": "code",
   "execution_count": 89,
   "metadata": {
    "scrolled": false
   },
   "outputs": [
    {
     "data": {
      "text/plain": [
       "Timestamp                                                                                                                         0\n",
       "Your_Gender_Name                                                                                                                  0\n",
       "Your_Age_in_Years                                                                                                                 0\n",
       "Your_Permanent_Resident_Area                                                                                                      0\n",
       "Monthly_Cost_for_Buying_Internet_with_Mobile_Data                                                                                 0\n",
       "Monthly_Cost_for_only_Phone/Mobile_Call                                                                                           0\n",
       "How_much_time_do_you_spend_daily_on_social_media_e.g.,_Facebook?_-_In_Minutes                                                     0\n",
       "Do_you_find_it_difficult_to_manage_your_expenses_for_your_study?                                                                  0\n",
       "Household_Monthly_Income                                                                                                          0\n",
       "Are_you_attending_online_classes_regularly?                                                                                       0\n",
       "Have_you_experienced_any_physical_problems_due_to_online_classes?                                                                 1\n",
       "If_you_face_any_physical_problem,_then_what's_kind_of_problems_have_you_encountered?                                              5\n",
       "What_device_do_you_use_for_the_online_class?                                                                                      0\n",
       "How_much_time_do_you_spend_each_day_on_an_average_in_the_online_classes_in_Hour                                                   0\n",
       "How_effective_has_remote_learning_been_for_you?                                                                                   0\n",
       "How_helpful_your_university_has_been_in_offering_you_the_resources_to_learn_from_home?                                            0\n",
       "How_well_could_you_manage_time_while_learning_remotely?_Consider_5_being_extremely_well_and_1_being_not_at_all                    0\n",
       "How_helpful_are_your_teachers_while_studying_online?                                                                              0\n",
       "How_helpful_was_the_class_material_provided_to_you?                                                                               0\n",
       "I_want_to_receive_the_class_video_recording                                                                                       1\n",
       "Do_you_enjoy_learning_remotely?                                                                                                   0\n",
       "Online_course_interaction_I_prefer_my_online_courses_to_be_very_structured_with_set_due_dates_similar_to_face-to-face_courses.    0\n",
       "Online_course_interaction_My_online_courses_are_set_up_so_that_I_can_interact_with_my_classmates.                                 0\n",
       "Online_course_interaction_Interaction_between_the_teacher_and_students_is_essential_to_online_learning.                           0\n",
       "Online_course_interaction_The_quality_of_discussions_in_my_online_courses_is_high.                                                0\n",
       "Online_course_interaction_The_lecture_material_in_my_online_courses_is_valuable_to_course_discussions.                            0\n",
       "Online_course_content_and_satisfaction_The_materials_in_my_online_courses_support_the_course_goals.                               0\n",
       "Online_course_content_and_satisfaction_The_class_video_recording_is_not_so_important_for_me.                                      0\n",
       "Online_course_content_and_satisfaction_On-campus_class_face-to-face_class_and_online_class_are_the_same_for_me.                   0\n",
       "Online_course_content_and_satisfaction_I_think_I_learn_more_in_online_classes_than_in_on-campus_classes_face-to-face_classes.     0\n",
       "Online_course_content_and_satisfaction_I_prefer_online_courses_to_on-campus_classes_face-to-face_classes.                         0\n",
       "Assignment_and_Homework_for_Online_Class_I_want_to_receive_homework_for_my_online_course.                                         0\n",
       "Assignment_and_Homework_for_Online_Class_I_want_to_receive_the_assignment_for_my_online_course.                                   0\n",
       "Assignment_and_Homework_for_Online_Class_I_want__to_participate_in_the_online_exam.                                               0\n",
       "Assignment_and_Homework_for_Online_Class_I_want_to_participate_in_the_quiz_in_the_online_class.                                   0\n",
       "dtype: int64"
      ]
     },
     "execution_count": 89,
     "metadata": {},
     "output_type": "execute_result"
    }
   ],
   "source": [
    "data.isnull().sum()"
   ]
  },
  {
   "cell_type": "code",
   "execution_count": 90,
   "metadata": {},
   "outputs": [],
   "source": [
    "df1 = data.dropna()"
   ]
  },
  {
   "cell_type": "code",
   "execution_count": 115,
   "metadata": {},
   "outputs": [
    {
     "data": {
      "text/plain": [
       "Your_Gender_Name\n",
       "Female    37\n",
       "Male      13\n",
       "dtype: int64"
      ]
     },
     "execution_count": 115,
     "metadata": {},
     "output_type": "execute_result"
    }
   ],
   "source": [
    "cat_data1=data.groupby('Your_Gender_Name').size()\n",
    "cat_data1"
   ]
  },
  {
   "cell_type": "code",
   "execution_count": 116,
   "metadata": {},
   "outputs": [
    {
     "data": {
      "text/plain": [
       "<matplotlib.axes._subplots.AxesSubplot at 0x1f69140dd30>"
      ]
     },
     "execution_count": 116,
     "metadata": {},
     "output_type": "execute_result"
    },
    {
     "data": {
      "image/png": "[encoded data removed]",
      "text/plain": [
       "<Figure size 432x288 with 1 Axes>"
      ]
     },
     "metadata": {
      "needs_background": "light"
     },
     "output_type": "display_data"
    }
   ],
   "source": [
    "cat_data1.plot(title='Gender_Distribution')"
   ]
  },
  {
   "cell_type": "code",
   "execution_count": 117,
   "metadata": {},
   "outputs": [
    {
     "data": {
      "text/plain": [
       "<matplotlib.axes._subplots.AxesSubplot at 0x1f691481940>"
      ]
     },
     "execution_count": 117,
     "metadata": {},
     "output_type": "execute_result"
    },
    {
     "data": {
      "image/png": "[encoded data removed]",
      "text/plain": [
       "<Figure size 432x288 with 1 Axes>"
      ]
     },
     "metadata": {
      "needs_background": "light"
     },
     "output_type": "display_data"
    }
   ],
   "source": [
    "cat_data1.hist(bins=50)"
   ]
  },
  {
   "cell_type": "code",
   "execution_count": 118,
   "metadata": {},
   "outputs": [
    {
     "data": {
      "text/plain": [
       "(array([1., 0., 0., 0., 0., 0., 0., 0., 0., 1.]),\n",
       " array([13. , 15.4, 17.8, 20.2, 22.6, 25. , 27.4, 29.8, 32.2, 34.6, 37. ]),\n",
       " <a list of 10 Patch objects>)"
      ]
     },
     "execution_count": 118,
     "metadata": {},
     "output_type": "execute_result"
    },
    {
     "data": {
      "image/png": "[encoded data removed]",
      "text/plain": [
       "<Figure size 432x288 with 1 Axes>"
      ]
     },
     "metadata": {
      "needs_background": "light"
     },
     "output_type": "display_data"
    }
   ],
   "source": [
    "plt.hist(cat_data1)"
   ]
  },
  {
   "cell_type": "code",
   "execution_count": 119,
   "metadata": {},
   "outputs": [
    {
     "data": {
      "text/plain": [
       "<matplotlib.axes._subplots.AxesSubplot at 0x1f691481438>"
      ]
     },
     "execution_count": 119,
     "metadata": {},
     "output_type": "execute_result"
    },
    {
     "data": {
      "image/png": "[encoded data removed]",
      "text/plain": [
       "<Figure size 432x288 with 1 Axes>"
      ]
     },
     "metadata": {
      "needs_background": "light"
     },
     "output_type": "display_data"
    }
   ],
   "source": [
    "sns.distplot(cat_data1)"
   ]
  },
  {
   "cell_type": "code",
   "execution_count": 121,
   "metadata": {},
   "outputs": [
    {
     "data": {
      "text/plain": [
       "<seaborn.axisgrid.FacetGrid at 0x1f69161b668>"
      ]
     },
     "execution_count": 121,
     "metadata": {},
     "output_type": "execute_result"
    },
    {
     "data": {
      "image/png": "[encoded data removed]",
      "text/plain": [
       "<Figure size 360x360 with 1 Axes>"
      ]
     },
     "metadata": {
      "needs_background": "light"
     },
     "output_type": "display_data"
    }
   ],
   "source": [
    "sns.catplot(x='Your_Age_in_Years',kind='box',data=df1)"
   ]
  },
  {
   "cell_type": "code",
   "execution_count": 91,
   "metadata": {
    "scrolled": true
   },
   "outputs": [
    {
     "data": {
      "text/html": [
       "<div>\n",
       "<style scoped>\n",
       "    .dataframe tbody tr th:only-of-type {\n",
       "        vertical-align: middle;\n",
       "    }\n",
       "\n",
       "    .dataframe tbody tr th {\n",
       "        vertical-align: top;\n",
       "    }\n",
       "\n",
       "    .dataframe thead th {\n",
       "        text-align: right;\n",
       "    }\n",
       "</style>\n",
       "<table border=\"1\" class=\"dataframe\">\n",
       "  <thead>\n",
       "    <tr style=\"text-align: right;\">\n",
       "      <th></th>\n",
       "      <th>Your_Age_in_Years</th>\n",
       "      <th>Monthly_Cost_for_Buying_Internet_with_Mobile_Data</th>\n",
       "      <th>Monthly_Cost_for_only_Phone/Mobile_Call</th>\n",
       "      <th>How_much_time_do_you_spend_daily_on_social_media_e.g.,_Facebook?_-_In_Minutes</th>\n",
       "      <th>Household_Monthly_Income</th>\n",
       "      <th>How_much_time_do_you_spend_each_day_on_an_average_in_the_online_classes_in_Hour</th>\n",
       "      <th>How_well_could_you_manage_time_while_learning_remotely?_Consider_5_being_extremely_well_and_1_being_not_at_all</th>\n",
       "    </tr>\n",
       "  </thead>\n",
       "  <tbody>\n",
       "    <tr>\n",
       "      <th>0</th>\n",
       "      <td>24</td>\n",
       "      <td>500</td>\n",
       "      <td>200</td>\n",
       "      <td>480</td>\n",
       "      <td>40000</td>\n",
       "      <td>4.0</td>\n",
       "      <td>1</td>\n",
       "    </tr>\n",
       "    <tr>\n",
       "      <th>1</th>\n",
       "      <td>20</td>\n",
       "      <td>1000</td>\n",
       "      <td>200</td>\n",
       "      <td>420</td>\n",
       "      <td>50000</td>\n",
       "      <td>4.0</td>\n",
       "      <td>2</td>\n",
       "    </tr>\n",
       "    <tr>\n",
       "      <th>2</th>\n",
       "      <td>21</td>\n",
       "      <td>1000</td>\n",
       "      <td>500</td>\n",
       "      <td>480</td>\n",
       "      <td>22000</td>\n",
       "      <td>2.0</td>\n",
       "      <td>3</td>\n",
       "    </tr>\n",
       "  </tbody>\n",
       "</table>\n",
       "</div>"
      ],
      "text/plain": [
       "   Your_Age_in_Years  Monthly_Cost_for_Buying_Internet_with_Mobile_Data  \\\n",
       "0                 24                                                500   \n",
       "1                 20                                               1000   \n",
       "2                 21                                               1000   \n",
       "\n",
       "   Monthly_Cost_for_only_Phone/Mobile_Call  \\\n",
       "0                                      200   \n",
       "1                                      200   \n",
       "2                                      500   \n",
       "\n",
       "   How_much_time_do_you_spend_daily_on_social_media_e.g.,_Facebook?_-_In_Minutes  \\\n",
       "0                                                480                               \n",
       "1                                                420                               \n",
       "2                                                480                               \n",
       "\n",
       "   Household_Monthly_Income  \\\n",
       "0                     40000   \n",
       "1                     50000   \n",
       "2                     22000   \n",
       "\n",
       "   How_much_time_do_you_spend_each_day_on_an_average_in_the_online_classes_in_Hour  \\\n",
       "0                                                4.0                                 \n",
       "1                                                4.0                                 \n",
       "2                                                2.0                                 \n",
       "\n",
       "   How_well_could_you_manage_time_while_learning_remotely?_Consider_5_being_extremely_well_and_1_being_not_at_all  \n",
       "0                                                  1                                                               \n",
       "1                                                  2                                                               \n",
       "2                                                  3                                                               "
      ]
     },
     "execution_count": 91,
     "metadata": {},
     "output_type": "execute_result"
    }
   ],
   "source": [
    "df2 = df1.iloc[:,[2,4,5,6,8,13,16]]\n",
    "df2.head(3)"
   ]
  },
  {
   "cell_type": "code",
   "execution_count": 92,
   "metadata": {},
   "outputs": [
    {
     "name": "stderr",
     "output_type": "stream",
     "text": [
      "C:\\ProgramData\\Anaconda3\\lib\\site-packages\\pandas\\core\\frame.py:4025: SettingWithCopyWarning: \n",
      "A value is trying to be set on a copy of a slice from a DataFrame\n",
      "\n",
      "See the caveats in the documentation: http://pandas.pydata.org/pandas-docs/stable/indexing.html#indexing-view-versus-copy\n",
      "  return super(DataFrame, self).rename(**kwargs)\n"
     ]
    },
    {
     "data": {
      "text/html": [
       "<div>\n",
       "<style scoped>\n",
       "    .dataframe tbody tr th:only-of-type {\n",
       "        vertical-align: middle;\n",
       "    }\n",
       "\n",
       "    .dataframe tbody tr th {\n",
       "        vertical-align: top;\n",
       "    }\n",
       "\n",
       "    .dataframe thead th {\n",
       "        text-align: right;\n",
       "    }\n",
       "</style>\n",
       "<table border=\"1\" class=\"dataframe\">\n",
       "  <thead>\n",
       "    <tr style=\"text-align: right;\">\n",
       "      <th></th>\n",
       "      <th>age</th>\n",
       "      <th>monthly_net_cost</th>\n",
       "      <th>monthly_call_cost</th>\n",
       "      <th>time_spent_sm</th>\n",
       "      <th>income</th>\n",
       "      <th>time_spent_onlineclass</th>\n",
       "      <th>remote_learning_time_management</th>\n",
       "    </tr>\n",
       "  </thead>\n",
       "  <tbody>\n",
       "    <tr>\n",
       "      <th>0</th>\n",
       "      <td>24</td>\n",
       "      <td>500</td>\n",
       "      <td>200</td>\n",
       "      <td>480</td>\n",
       "      <td>40000</td>\n",
       "      <td>4.0</td>\n",
       "      <td>1</td>\n",
       "    </tr>\n",
       "    <tr>\n",
       "      <th>1</th>\n",
       "      <td>20</td>\n",
       "      <td>1000</td>\n",
       "      <td>200</td>\n",
       "      <td>420</td>\n",
       "      <td>50000</td>\n",
       "      <td>4.0</td>\n",
       "      <td>2</td>\n",
       "    </tr>\n",
       "    <tr>\n",
       "      <th>2</th>\n",
       "      <td>21</td>\n",
       "      <td>1000</td>\n",
       "      <td>500</td>\n",
       "      <td>480</td>\n",
       "      <td>22000</td>\n",
       "      <td>2.0</td>\n",
       "      <td>3</td>\n",
       "    </tr>\n",
       "  </tbody>\n",
       "</table>\n",
       "</div>"
      ],
      "text/plain": [
       "   age  monthly_net_cost  monthly_call_cost  time_spent_sm  income  \\\n",
       "0   24               500                200            480   40000   \n",
       "1   20              1000                200            420   50000   \n",
       "2   21              1000                500            480   22000   \n",
       "\n",
       "   time_spent_onlineclass  remote_learning_time_management  \n",
       "0                     4.0                                1  \n",
       "1                     4.0                                2  \n",
       "2                     2.0                                3  "
      ]
     },
     "execution_count": 92,
     "metadata": {},
     "output_type": "execute_result"
    }
   ],
   "source": [
    "df2.rename(columns = {'Your_Age_in_Years':'age', 'Monthly_Cost_for_Buying_Internet_with_Mobile_Data':'monthly_net_cost', 'Monthly_Cost_for_only_Phone/Mobile_Call':'monthly_call_cost', \n",
    "                              'How_much_time_do_you_spend_daily_on_social_media_e.g.,_Facebook?_-_In_Minutes':'time_spent_sm',\n",
    "                                  'Household_Monthly_Income':'income','How_much_time_do_you_spend_each_day_on_an_average_in_the_online_classes_in_Hour':'time_spent_onlineclass',\n",
    "                                     'How_well_could_you_manage_time_while_learning_remotely?_Consider_5_being_extremely_well_and_1_being_not_at_all':'remote_learning_time_management'}, inplace = True)\n",
    "df2.head(3)"
   ]
  },
  {
   "cell_type": "markdown",
   "metadata": {},
   "source": [
    "<p>df2 Dataframe contains only numeric data</p>"
   ]
  },
  {
   "cell_type": "code",
   "execution_count": null,
   "metadata": {},
   "outputs": [],
   "source": []
  },
  {
   "cell_type": "markdown",
   "metadata": {},
   "source": [
    "<h3>Correlogram<h3>"
   ]
  },
  {
   "cell_type": "code",
   "execution_count": 93,
   "metadata": {
    "scrolled": true
   },
   "outputs": [
    {
     "data": {
      "text/plain": [
       "<matplotlib.axes._subplots.AxesSubplot at 0x1f68c59d1d0>"
      ]
     },
     "execution_count": 93,
     "metadata": {},
     "output_type": "execute_result"
    },
    {
     "data": {
      "image/png": "[encoded data removed]",
      "text/plain": [
       "<Figure size 432x288 with 2 Axes>"
      ]
     },
     "metadata": {
      "needs_background": "light"
     },
     "output_type": "display_data"
    }
   ],
   "source": [
    "import seaborn as sns\n",
    "correlation=df2.corr()\n",
    "sns.heatmap(correlation,xticklabels=correlation.columns,yticklabels=correlation.columns)\n"
   ]
  },
  {
   "cell_type": "code",
   "execution_count": 94,
   "metadata": {},
   "outputs": [
    {
     "data": {
      "text/plain": [
       "<seaborn.axisgrid.PairGrid at 0x1f68c7b55c0>"
      ]
     },
     "execution_count": 94,
     "metadata": {},
     "output_type": "execute_result"
    },
    {
     "data": {
      "image/png": "[encoded data removed]",
      "text/plain": [
       "<Figure size 1260x1260 with 56 Axes>"
      ]
     },
     "metadata": {
      "needs_background": "light"
     },
     "output_type": "display_data"
    }
   ],
   "source": [
    "sns.pairplot(df2)"
   ]
  },
  {
   "cell_type": "code",
   "execution_count": 95,
   "metadata": {
    "scrolled": true
   },
   "outputs": [
    {
     "data": {
      "text/plain": [
       "<matplotlib.axes._subplots.AxesSubplot at 0x1f68f04ec50>"
      ]
     },
     "execution_count": 95,
     "metadata": {},
     "output_type": "execute_result"
    },
    {
     "data": {
      "image/png": "[encoded data removed]",
      "text/plain": [
       "<Figure size 432x288 with 1 Axes>"
      ]
     },
     "metadata": {
      "needs_background": "light"
     },
     "output_type": "display_data"
    }
   ],
   "source": [
    "sns.distplot(df1['Your_Age_in_Years'],bins=5)"
   ]
  },
  {
   "cell_type": "code",
   "execution_count": 96,
   "metadata": {
    "scrolled": false
   },
   "outputs": [
    {
     "data": {
      "text/plain": [
       "(array([ 1., 13., 12., 14.,  1.,  1.,  0.,  0.,  0.,  1.]),\n",
       " array([19., 20., 21., 22., 23., 24., 25., 26., 27., 28., 29.]),\n",
       " <a list of 10 Patch objects>)"
      ]
     },
     "execution_count": 96,
     "metadata": {},
     "output_type": "execute_result"
    },
    {
     "data": {
      "image/png": "[encoded data removed]",
      "text/plain": [
       "<Figure size 432x288 with 1 Axes>"
      ]
     },
     "metadata": {
      "needs_background": "light"
     },
     "output_type": "display_data"
    }
   ],
   "source": [
    "import matplotlib.pyplot as plt\n",
    "plt.hist(df1['Your_Age_in_Years'],bins=10)"
   ]
  },
  {
   "cell_type": "code",
   "execution_count": 97,
   "metadata": {},
   "outputs": [],
   "source": [
    "##check relation between 2 numerical variables and one categorical target variable"
   ]
  },
  {
   "cell_type": "code",
   "execution_count": 98,
   "metadata": {
    "scrolled": true
   },
   "outputs": [
    {
     "name": "stderr",
     "output_type": "stream",
     "text": [
      "C:\\ProgramData\\Anaconda3\\lib\\site-packages\\seaborn\\regression.py:546: UserWarning: The `size` paramter has been renamed to `height`; please update your code.\n",
      "  warnings.warn(msg, UserWarning)\n"
     ]
    },
    {
     "data": {
      "text/plain": [
       "<seaborn.axisgrid.FacetGrid at 0x1f68f8c3898>"
      ]
     },
     "execution_count": 98,
     "metadata": {},
     "output_type": "execute_result"
    },
    {
     "data": {
      "image/png": "[encoded data removed]",
      "text/plain": [
       "<Figure size 697.375x432 with 1 Axes>"
      ]
     },
     "metadata": {
      "needs_background": "light"
     },
     "output_type": "display_data"
    }
   ],
   "source": [
    "sns.lmplot(x='How_much_time_do_you_spend_daily_on_social_media_e.g.,_Facebook?_-_In_Minutes',y='How_well_could_you_manage_time_while_learning_remotely?_Consider_5_being_extremely_well_and_1_being_not_at_all',data=df1, hue='How_effective_has_remote_learning_been_for_you?', palette='coolwarm', fit_reg=False, size=6, aspect=1)"
   ]
  },
  {
   "cell_type": "code",
   "execution_count": 99,
   "metadata": {},
   "outputs": [
    {
     "data": {
      "text/plain": [
       "<seaborn.axisgrid.FacetGrid at 0x1f68f9434e0>"
      ]
     },
     "execution_count": 99,
     "metadata": {},
     "output_type": "execute_result"
    },
    {
     "data": {
      "image/png": "[encoded data removed]",
      "text/plain": [
       "<Figure size 653.375x360 with 1 Axes>"
      ]
     },
     "metadata": {
      "needs_background": "light"
     },
     "output_type": "display_data"
    }
   ],
   "source": [
    "sns.relplot(x='Monthly_Cost_for_only_Phone/Mobile_Call',y='Your_Age_in_Years',hue='How_effective_has_remote_learning_been_for_you?',data=data)"
   ]
  },
  {
   "cell_type": "code",
   "execution_count": 100,
   "metadata": {},
   "outputs": [
    {
     "data": {
      "text/plain": [
       "<seaborn.axisgrid.FacetGrid at 0x1f68f9d2160>"
      ]
     },
     "execution_count": 100,
     "metadata": {},
     "output_type": "execute_result"
    },
    {
     "data": {
      "image/png": "[encoded data removed]",
      "text/plain": [
       "<Figure size 653.375x360 with 1 Axes>"
      ]
     },
     "metadata": {
      "needs_background": "light"
     },
     "output_type": "display_data"
    }
   ],
   "source": [
    "sns.relplot(x='Monthly_Cost_for_only_Phone/Mobile_Call',y='Monthly_Cost_for_Buying_Internet_with_Mobile_Data',hue='How_effective_has_remote_learning_been_for_you?',data=data)"
   ]
  },
  {
   "cell_type": "markdown",
   "metadata": {},
   "source": [
    "<h1>K-Means Clustering</h1>\n",
    "\n",
    "<p>In order to implement K-Means clustering, the numeric dimensions will be seperated.\n",
    "Since K-Means is a distance-based algorithm, this difference of magnitude can create a problem. So let’s first bring all the variables to the same magnitude<p>"
   ]
  },
  {
   "cell_type": "code",
   "execution_count": 101,
   "metadata": {},
   "outputs": [
    {
     "name": "stderr",
     "output_type": "stream",
     "text": [
      "C:\\ProgramData\\Anaconda3\\lib\\site-packages\\sklearn\\preprocessing\\data.py:645: DataConversionWarning: Data with input dtype int64, float64 were all converted to float64 by StandardScaler.\n",
      "  return self.partial_fit(X, y)\n",
      "C:\\ProgramData\\Anaconda3\\lib\\site-packages\\sklearn\\base.py:464: DataConversionWarning: Data with input dtype int64, float64 were all converted to float64 by StandardScaler.\n",
      "  return self.fit(X, **fit_params).transform(X)\n"
     ]
    },
    {
     "data": {
      "text/html": [
       "<div>\n",
       "<style scoped>\n",
       "    .dataframe tbody tr th:only-of-type {\n",
       "        vertical-align: middle;\n",
       "    }\n",
       "\n",
       "    .dataframe tbody tr th {\n",
       "        vertical-align: top;\n",
       "    }\n",
       "\n",
       "    .dataframe thead th {\n",
       "        text-align: right;\n",
       "    }\n",
       "</style>\n",
       "<table border=\"1\" class=\"dataframe\">\n",
       "  <thead>\n",
       "    <tr style=\"text-align: right;\">\n",
       "      <th></th>\n",
       "      <th>0</th>\n",
       "      <th>1</th>\n",
       "      <th>2</th>\n",
       "      <th>3</th>\n",
       "      <th>4</th>\n",
       "      <th>5</th>\n",
       "      <th>6</th>\n",
       "    </tr>\n",
       "  </thead>\n",
       "  <tbody>\n",
       "    <tr>\n",
       "      <th>count</th>\n",
       "      <td>4.300000e+01</td>\n",
       "      <td>4.300000e+01</td>\n",
       "      <td>4.300000e+01</td>\n",
       "      <td>4.300000e+01</td>\n",
       "      <td>4.300000e+01</td>\n",
       "      <td>4.300000e+01</td>\n",
       "      <td>4.300000e+01</td>\n",
       "    </tr>\n",
       "    <tr>\n",
       "      <th>mean</th>\n",
       "      <td>-3.253212e-16</td>\n",
       "      <td>-1.000492e-16</td>\n",
       "      <td>2.840105e-17</td>\n",
       "      <td>-1.032766e-17</td>\n",
       "      <td>4.131062e-17</td>\n",
       "      <td>2.581914e-17</td>\n",
       "      <td>2.556095e-16</td>\n",
       "    </tr>\n",
       "    <tr>\n",
       "      <th>std</th>\n",
       "      <td>1.011835e+00</td>\n",
       "      <td>1.011835e+00</td>\n",
       "      <td>1.011835e+00</td>\n",
       "      <td>1.011835e+00</td>\n",
       "      <td>1.011835e+00</td>\n",
       "      <td>1.011835e+00</td>\n",
       "      <td>1.011835e+00</td>\n",
       "    </tr>\n",
       "    <tr>\n",
       "      <th>min</th>\n",
       "      <td>-1.460898e+00</td>\n",
       "      <td>-1.454693e+00</td>\n",
       "      <td>-6.691452e-01</td>\n",
       "      <td>-1.245662e+00</td>\n",
       "      <td>-5.086164e-01</td>\n",
       "      <td>-9.283487e-01</td>\n",
       "      <td>-1.988651e+00</td>\n",
       "    </tr>\n",
       "    <tr>\n",
       "      <th>25%</th>\n",
       "      <td>-8.198916e-01</td>\n",
       "      <td>-6.547979e-01</td>\n",
       "      <td>-4.384980e-01</td>\n",
       "      <td>-6.853747e-01</td>\n",
       "      <td>-3.534714e-01</td>\n",
       "      <td>-9.283487e-01</td>\n",
       "      <td>-6.094253e-01</td>\n",
       "    </tr>\n",
       "    <tr>\n",
       "      <th>50%</th>\n",
       "      <td>-1.788854e-01</td>\n",
       "      <td>-4.948189e-01</td>\n",
       "      <td>-1.501889e-01</td>\n",
       "      <td>-2.371449e-01</td>\n",
       "      <td>-2.500414e-01</td>\n",
       "      <td>3.490591e-01</td>\n",
       "      <td>-6.094253e-01</td>\n",
       "    </tr>\n",
       "    <tr>\n",
       "      <th>75%</th>\n",
       "      <td>4.621207e-01</td>\n",
       "      <td>4.650553e-01</td>\n",
       "      <td>-1.501889e-01</td>\n",
       "      <td>4.351999e-01</td>\n",
       "      <td>-1.466114e-01</td>\n",
       "      <td>3.490591e-01</td>\n",
       "      <td>7.698004e-01</td>\n",
       "    </tr>\n",
       "    <tr>\n",
       "      <th>max</th>\n",
       "      <td>4.949164e+00</td>\n",
       "      <td>3.344678e+00</td>\n",
       "      <td>5.039374e+00</td>\n",
       "      <td>3.348694e+00</td>\n",
       "      <td>4.662883e+00</td>\n",
       "      <td>4.500634e+00</td>\n",
       "      <td>2.149026e+00</td>\n",
       "    </tr>\n",
       "  </tbody>\n",
       "</table>\n",
       "</div>"
      ],
      "text/plain": [
       "                  0             1             2             3             4  \\\n",
       "count  4.300000e+01  4.300000e+01  4.300000e+01  4.300000e+01  4.300000e+01   \n",
       "mean  -3.253212e-16 -1.000492e-16  2.840105e-17 -1.032766e-17  4.131062e-17   \n",
       "std    1.011835e+00  1.011835e+00  1.011835e+00  1.011835e+00  1.011835e+00   \n",
       "min   -1.460898e+00 -1.454693e+00 -6.691452e-01 -1.245662e+00 -5.086164e-01   \n",
       "25%   -8.198916e-01 -6.547979e-01 -4.384980e-01 -6.853747e-01 -3.534714e-01   \n",
       "50%   -1.788854e-01 -4.948189e-01 -1.501889e-01 -2.371449e-01 -2.500414e-01   \n",
       "75%    4.621207e-01  4.650553e-01 -1.501889e-01  4.351999e-01 -1.466114e-01   \n",
       "max    4.949164e+00  3.344678e+00  5.039374e+00  3.348694e+00  4.662883e+00   \n",
       "\n",
       "                  5             6  \n",
       "count  4.300000e+01  4.300000e+01  \n",
       "mean   2.581914e-17  2.556095e-16  \n",
       "std    1.011835e+00  1.011835e+00  \n",
       "min   -9.283487e-01 -1.988651e+00  \n",
       "25%   -9.283487e-01 -6.094253e-01  \n",
       "50%    3.490591e-01 -6.094253e-01  \n",
       "75%    3.490591e-01  7.698004e-01  \n",
       "max    4.500634e+00  2.149026e+00  "
      ]
     },
     "execution_count": 101,
     "metadata": {},
     "output_type": "execute_result"
    }
   ],
   "source": [
    "# standardizing the data\n",
    "from sklearn.preprocessing import StandardScaler\n",
    "scaler = StandardScaler()\n",
    "data_scaled = scaler.fit_transform(df2)\n",
    "\n",
    "# statistics of scaled data\n",
    "pd.DataFrame(data_scaled).describe()"
   ]
  },
  {
   "cell_type": "markdown",
   "metadata": {},
   "source": [
    "<p>The magnitude looks similar now. Next, let’s create a kmeans function and fit it on the data:</p>"
   ]
  },
  {
   "cell_type": "code",
   "execution_count": 102,
   "metadata": {},
   "outputs": [
    {
     "data": {
      "text/plain": [
       "KMeans(algorithm='auto', copy_x=True, init='k-means++', max_iter=300,\n",
       "    n_clusters=2, n_init=10, n_jobs=None, precompute_distances='auto',\n",
       "    random_state=None, tol=0.0001, verbose=0)"
      ]
     },
     "execution_count": 102,
     "metadata": {},
     "output_type": "execute_result"
    }
   ],
   "source": [
    "# defining the kmeans function with initialization as k-means++\n",
    "kmeans = KMeans(n_clusters=2, init='k-means++')\n",
    "\n",
    "# fitting the k means algorithm on scaled data\n",
    "kmeans.fit(data_scaled)"
   ]
  },
  {
   "cell_type": "markdown",
   "metadata": {},
   "source": [
    "<p>We have initialized two clusters – the initialization is not random here. We have used the k-means++ initialization which generally produces better results.\n",
    "\n",
    "Let’s evaluate how well the formed clusters are. To do that, we will calculate the inertia of the clusters:</p>"
   ]
  },
  {
   "cell_type": "code",
   "execution_count": 103,
   "metadata": {},
   "outputs": [
    {
     "data": {
      "text/plain": [
       "233.74482525286152"
      ]
     },
     "execution_count": 103,
     "metadata": {},
     "output_type": "execute_result"
    }
   ],
   "source": [
    "# inertia on the fitted data\n",
    "kmeans.inertia_"
   ]
  },
  {
   "cell_type": "markdown",
   "metadata": {},
   "source": [
    "<p>Output: 233.74482525286152\n",
    "\n",
    "We got an inertia value of almost 233. Now, let’s see how we can use the elbow curve to determine the optimum number of clusters in Python.\n",
    "\n",
    "We will first fit multiple k-means models and in each successive model, we will increase the number of clusters. We will store the inertia value of each model and then plot it to visualize the result:</p>"
   ]
  },
  {
   "cell_type": "code",
   "execution_count": 104,
   "metadata": {},
   "outputs": [
    {
     "data": {
      "text/plain": [
       "Text(0, 0.5, 'Inertia')"
      ]
     },
     "execution_count": 104,
     "metadata": {},
     "output_type": "execute_result"
    },
    {
     "data": {
      "image/png": "[encoded data removed]",
      "text/plain": [
       "<Figure size 864x432 with 1 Axes>"
      ]
     },
     "metadata": {
      "needs_background": "light"
     },
     "output_type": "display_data"
    }
   ],
   "source": [
    "# fitting multiple k-means algorithms and storing the values in an empty list\n",
    "SSE = []\n",
    "for cluster in range(1,20):\n",
    "    kmeans = KMeans(n_jobs = -1, n_clusters = cluster, init='k-means++')\n",
    "    kmeans.fit(data_scaled)\n",
    "    SSE.append(kmeans.inertia_)\n",
    "\n",
    "# converting the results into a dataframe and plotting them\n",
    "frame = pd.DataFrame({'Cluster':range(1,20), 'SSE':SSE})\n",
    "plt.figure(figsize=(12,6))\n",
    "plt.plot(frame['Cluster'], frame['SSE'], marker='o')\n",
    "plt.xlabel('Number of clusters')\n",
    "plt.ylabel('Inertia')"
   ]
  },
  {
   "cell_type": "markdown",
   "metadata": {},
   "source": [
    "<p>Looking at the above elbow curve, we can choose any number of clusters between 5 to 8. Let’s set the number of clusters as 7 and fit the model:</p>"
   ]
  },
  {
   "cell_type": "code",
   "execution_count": 106,
   "metadata": {},
   "outputs": [],
   "source": [
    "# k means using 5 clusters and k-means++ initialization\n",
    "kmeans = KMeans(n_jobs = -1, n_clusters = 7, init='k-means++')\n",
    "kmeans.fit(data_scaled)\n",
    "pred = kmeans.predict(data_scaled)"
   ]
  },
  {
   "cell_type": "markdown",
   "metadata": {},
   "source": [
    "<p>Finally, let’s look at the value count of points in each of the above-formed clusters:</p>"
   ]
  },
  {
   "cell_type": "code",
   "execution_count": 107,
   "metadata": {},
   "outputs": [
    {
     "data": {
      "text/plain": [
       "2    15\n",
       "0    11\n",
       "3    10\n",
       "5     3\n",
       "4     2\n",
       "6     1\n",
       "1     1\n",
       "Name: cluster, dtype: int64"
      ]
     },
     "execution_count": 107,
     "metadata": {},
     "output_type": "execute_result"
    }
   ],
   "source": [
    "frame = pd.DataFrame(data_scaled)\n",
    "frame['cluster'] = pred\n",
    "frame['cluster'].value_counts()"
   ]
  }
 ],
 "metadata": {
  "kernelspec": {
   "display_name": "Python 3",
   "language": "python",
   "name": "python3"
  },
  "language_info": {
   "codemirror_mode": {
    "name": "ipython",
    "version": 3
   },
   "file_extension": ".py",
   "mimetype": "text/x-python",
   "name": "python",
   "nbconvert_exporter": "python",
   "pygments_lexer": "ipython3",
   "version": "3.7.3"
  }
 },
 "nbformat": 4,
 "nbformat_minor": 4
}
